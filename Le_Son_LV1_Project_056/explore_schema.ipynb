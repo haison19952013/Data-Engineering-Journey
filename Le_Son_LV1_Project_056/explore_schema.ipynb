{
 "cells": [
  {
   "cell_type": "code",
   "execution_count": 21,
   "id": "3fc3de03",
   "metadata": {},
   "outputs": [
    {
     "name": "stdout",
     "output_type": "stream",
     "text": [
      "The autoreload extension is already loaded. To reload it, use:\n",
      "  %reload_ext autoreload\n"
     ]
    }
   ],
   "source": [
    "%load_ext autoreload\n",
    "%autoreload 2\n",
    "from pipeline import MongoDB_Connector\n",
    "import os\n",
    "from utils import extract_schema_from_mongodb\n",
    "import json"
   ]
  },
  {
   "cell_type": "code",
   "execution_count": 22,
   "id": "546408b4",
   "metadata": {},
   "outputs": [
    {
     "name": "stdout",
     "output_type": "stream",
     "text": [
      "2025-06-24 01:00 - INFO - Success in conn_mongo()\n",
      "\n",
      "🔍 Analyzing: add_to_cart_action\n",
      "✅ Saved: add_to_cart_action_schema.json (24 fields)\n",
      "\n",
      "🔍 Analyzing: back_to_product_action\n",
      "✅ Saved: back_to_product_action_schema.json (16 fields)\n",
      "\n",
      "🔍 Analyzing: checkout\n",
      "✅ Saved: checkout_schema.json (24 fields)\n",
      "\n",
      "🔍 Analyzing: checkout_success\n",
      "✅ Saved: checkout_success_schema.json (26 fields)\n",
      "\n",
      "🔍 Analyzing: landing_page_recommendation_clicked\n",
      "✅ Saved: landing_page_recommendation_clicked_schema.json (17 fields)\n",
      "\n",
      "🔍 Analyzing: landing_page_recommendation_noticed\n",
      "✅ Saved: landing_page_recommendation_noticed_schema.json (15 fields)\n",
      "\n",
      "🔍 Analyzing: landing_page_recommendation_visible\n",
      "✅ Saved: landing_page_recommendation_visible_schema.json (15 fields)\n",
      "\n",
      "🔍 Analyzing: listing_page_recommendation_clicked\n",
      "✅ Saved: listing_page_recommendation_clicked_schema.json (23 fields)\n",
      "\n",
      "🔍 Analyzing: listing_page_recommendation_noticed\n",
      "✅ Saved: listing_page_recommendation_noticed_schema.json (21 fields)\n",
      "\n",
      "🔍 Analyzing: listing_page_recommendation_visible\n",
      "✅ Saved: listing_page_recommendation_visible_schema.json (21 fields)\n",
      "\n",
      "🔍 Analyzing: product_detail_recommendation_clicked\n",
      "✅ Saved: product_detail_recommendation_clicked_schema.json (18 fields)\n",
      "\n",
      "🔍 Analyzing: product_detail_recommendation_noticed\n",
      "✅ Saved: product_detail_recommendation_noticed_schema.json (16 fields)\n",
      "\n",
      "🔍 Analyzing: product_detail_recommendation_visible\n",
      "✅ Saved: product_detail_recommendation_visible_schema.json (16 fields)\n",
      "\n",
      "🔍 Analyzing: product_view_all_recommend_clicked\n",
      "✅ Saved: product_view_all_recommend_clicked_schema.json (18 fields)\n",
      "\n",
      "🔍 Analyzing: search_box_action\n",
      "✅ Saved: search_box_action_schema.json (16 fields)\n",
      "\n",
      "🔍 Analyzing: select_product_option\n",
      "✅ Saved: select_product_option_schema.json (21 fields)\n",
      "\n",
      "🔍 Analyzing: select_product_option_quality\n",
      "✅ Saved: select_product_option_quality_schema.json (23 fields)\n",
      "\n",
      "🔍 Analyzing: sorting_relevance_click_action\n",
      "✅ Saved: sorting_relevance_click_action_schema.json (17 fields)\n",
      "\n",
      "🔍 Analyzing: view_all_recommend\n",
      "✅ Saved: view_all_recommend_schema.json (25 fields)\n",
      "\n",
      "🔍 Analyzing: view_home_page\n",
      "✅ Saved: view_home_page_schema.json (15 fields)\n",
      "\n",
      "🔍 Analyzing: view_landing_page\n",
      "✅ Saved: view_landing_page_schema.json (15 fields)\n",
      "\n",
      "🔍 Analyzing: view_listing_page\n",
      "✅ Saved: view_listing_page_schema.json (21 fields)\n",
      "\n",
      "🔍 Analyzing: view_my_account\n",
      "✅ Saved: view_my_account_schema.json (15 fields)\n",
      "\n",
      "🔍 Analyzing: view_product_detail\n",
      "✅ Saved: view_product_detail_schema.json (24 fields)\n",
      "\n",
      "🔍 Analyzing: view_shopping_cart\n",
      "✅ Saved: view_shopping_cart_schema.json (22 fields)\n",
      "\n",
      "🔍 Analyzing: view_sorting_relevance\n",
      "✅ Saved: view_sorting_relevance_schema.json (19 fields)\n",
      "\n",
      "🔍 Analyzing: view_static_page\n",
      "✅ Saved: view_static_page_schema.json (15 fields)\n",
      "\n",
      "📦 Combined schema saved to 'data_dict/combined_schema.json' with 57 unique fields.\n"
     ]
    }
   ],
   "source": [
    "# Output folder\n",
    "output_folder = \"data_dict\"\n",
    "\n",
    "mongo = MongoDB_Connector()\n",
    "mongo.conn_mongo()\n",
    "\n",
    "extract_schema_from_mongodb(mongo.mongo_base_collection, output_folder, explore_limit = 20_000)"
   ]
  }
 ],
 "metadata": {
  "kernelspec": {
   "display_name": "data_engineering",
   "language": "python",
   "name": "python3"
  },
  "language_info": {
   "codemirror_mode": {
    "name": "ipython",
    "version": 3
   },
   "file_extension": ".py",
   "mimetype": "text/x-python",
   "name": "python",
   "nbconvert_exporter": "python",
   "pygments_lexer": "ipython3",
   "version": "3.9.20"
  }
 },
 "nbformat": 4,
 "nbformat_minor": 5
}
