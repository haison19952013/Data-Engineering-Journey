{
 "cells": [
  {
   "cell_type": "code",
   "execution_count": 6,
   "metadata": {},
   "outputs": [
    {
     "name": "stdout",
     "output_type": "stream",
     "text": [
      "The autoreload extension is already loaded. To reload it, use:\n",
      "  %reload_ext autoreload\n"
     ]
    }
   ],
   "source": [
    "%load_ext autoreload\n",
    "%autoreload 2\n",
    "%reload_ext autoreload\n",
    "import os \n",
    "from db_process import DB_Process\n",
    "import json\n",
    "from tqdm import tqdm\n",
    "import pandas as pd"
   ]
  },
  {
   "cell_type": "code",
   "execution_count": 7,
   "metadata": {},
   "outputs": [
    {
     "name": "stdout",
     "output_type": "stream",
     "text": [
      "<class 'pandas.core.frame.DataFrame'>\n",
      "RangeIndex: 26298 entries, 0 to 26297\n",
      "Data columns (total 10 columns):\n",
      " #   Column            Non-Null Count  Dtype  \n",
      "---  ------            --------------  -----  \n",
      " 0   full_school_name  26298 non-null  object \n",
      " 1   school_name       26298 non-null  object \n",
      " 2   player_name       26298 non-null  object \n",
      " 3   position          26298 non-null  object \n",
      " 4   height            26298 non-null  float64\n",
      " 5   weight            26298 non-null  float64\n",
      " 6   year              26298 non-null  object \n",
      " 7   hometown          26298 non-null  object \n",
      " 8   state             26298 non-null  object \n",
      " 9   id                26298 non-null  int64  \n",
      "dtypes: float64(2), int64(1), object(7)\n",
      "memory usage: 2.0+ MB\n"
     ]
    }
   ],
   "source": [
    "df = pd.read_csv('college_football_players.csv')\n",
    "df.info()"
   ]
  },
  {
   "cell_type": "code",
   "execution_count": 34,
   "metadata": {},
   "outputs": [
    {
     "data": {
      "application/vnd.microsoft.datawrangler.viewer.v0+json": {
       "columns": [
        {
         "name": "index",
         "rawType": "object",
         "type": "string"
        },
        {
         "name": "height",
         "rawType": "float64",
         "type": "float"
        },
        {
         "name": "weight",
         "rawType": "float64",
         "type": "float"
        },
        {
         "name": "id",
         "rawType": "float64",
         "type": "float"
        }
       ],
       "conversionMethod": "pd.DataFrame",
       "ref": "a9b63087-3ace-4baf-8940-646fe431fd30",
       "rows": [
        [
         "count",
         "26298.0",
         "26298.0",
         "26298.0"
        ],
        [
         "mean",
         "72.6767815042969",
         "222.95212563693056",
         "13149.5"
        ],
        [
         "std",
         "7.0690579382336125",
         "47.37890989693916",
         "7591.723025769578"
        ],
        [
         "min",
         "0.0",
         "0.0",
         "1.0"
        ],
        [
         "25%",
         "71.0",
         "190.0",
         "6575.25"
        ],
        [
         "50%",
         "73.0",
         "215.0",
         "13149.5"
        ],
        [
         "75%",
         "75.0",
         "253.0",
         "19723.75"
        ],
        [
         "max",
         "83.0",
         "401.0",
         "26298.0"
        ]
       ],
       "shape": {
        "columns": 3,
        "rows": 8
       }
      },
      "text/html": [
       "<div>\n",
       "<style scoped>\n",
       "    .dataframe tbody tr th:only-of-type {\n",
       "        vertical-align: middle;\n",
       "    }\n",
       "\n",
       "    .dataframe tbody tr th {\n",
       "        vertical-align: top;\n",
       "    }\n",
       "\n",
       "    .dataframe thead th {\n",
       "        text-align: right;\n",
       "    }\n",
       "</style>\n",
       "<table border=\"1\" class=\"dataframe\">\n",
       "  <thead>\n",
       "    <tr style=\"text-align: right;\">\n",
       "      <th></th>\n",
       "      <th>height</th>\n",
       "      <th>weight</th>\n",
       "      <th>id</th>\n",
       "    </tr>\n",
       "  </thead>\n",
       "  <tbody>\n",
       "    <tr>\n",
       "      <th>count</th>\n",
       "      <td>26298.000000</td>\n",
       "      <td>26298.000000</td>\n",
       "      <td>26298.000000</td>\n",
       "    </tr>\n",
       "    <tr>\n",
       "      <th>mean</th>\n",
       "      <td>72.676782</td>\n",
       "      <td>222.952126</td>\n",
       "      <td>13149.500000</td>\n",
       "    </tr>\n",
       "    <tr>\n",
       "      <th>std</th>\n",
       "      <td>7.069058</td>\n",
       "      <td>47.378910</td>\n",
       "      <td>7591.723026</td>\n",
       "    </tr>\n",
       "    <tr>\n",
       "      <th>min</th>\n",
       "      <td>0.000000</td>\n",
       "      <td>0.000000</td>\n",
       "      <td>1.000000</td>\n",
       "    </tr>\n",
       "    <tr>\n",
       "      <th>25%</th>\n",
       "      <td>71.000000</td>\n",
       "      <td>190.000000</td>\n",
       "      <td>6575.250000</td>\n",
       "    </tr>\n",
       "    <tr>\n",
       "      <th>50%</th>\n",
       "      <td>73.000000</td>\n",
       "      <td>215.000000</td>\n",
       "      <td>13149.500000</td>\n",
       "    </tr>\n",
       "    <tr>\n",
       "      <th>75%</th>\n",
       "      <td>75.000000</td>\n",
       "      <td>253.000000</td>\n",
       "      <td>19723.750000</td>\n",
       "    </tr>\n",
       "    <tr>\n",
       "      <th>max</th>\n",
       "      <td>83.000000</td>\n",
       "      <td>401.000000</td>\n",
       "      <td>26298.000000</td>\n",
       "    </tr>\n",
       "  </tbody>\n",
       "</table>\n",
       "</div>"
      ],
      "text/plain": [
       "             height        weight            id\n",
       "count  26298.000000  26298.000000  26298.000000\n",
       "mean      72.676782    222.952126  13149.500000\n",
       "std        7.069058     47.378910   7591.723026\n",
       "min        0.000000      0.000000      1.000000\n",
       "25%       71.000000    190.000000   6575.250000\n",
       "50%       73.000000    215.000000  13149.500000\n",
       "75%       75.000000    253.000000  19723.750000\n",
       "max       83.000000    401.000000  26298.000000"
      ]
     },
     "execution_count": 34,
     "metadata": {},
     "output_type": "execute_result"
    }
   ],
   "source": [
    "df.describe()"
   ]
  },
  {
   "cell_type": "code",
   "execution_count": 30,
   "metadata": {},
   "outputs": [
    {
     "data": {
      "text/plain": [
       "('full_school_name',\n",
       " 'school_name',\n",
       " 'player_name',\n",
       " 'position',\n",
       " 'height',\n",
       " 'weight',\n",
       " 'year',\n",
       " 'hometown',\n",
       " 'state',\n",
       " 'id')"
      ]
     },
     "execution_count": 30,
     "metadata": {},
     "output_type": "execute_result"
    }
   ],
   "source": [
    "column_names = tuple(df.columns.values.tolist())\n",
    "column_names"
   ]
  },
  {
   "cell_type": "code",
   "execution_count": 8,
   "metadata": {},
   "outputs": [],
   "source": [
    "my_db = DB_Process()"
   ]
  },
  {
   "cell_type": "code",
   "execution_count": null,
   "metadata": {},
   "outputs": [
    {
     "name": "stdout",
     "output_type": "stream",
     "text": [
      "2025-03-26 00:39 - ERROR - Error in create_tables(): relation \"college_football_players\" already exists\n",
      "\n"
     ]
    }
   ],
   "source": [
    "table_dict = (\n",
    "    {\n",
    "        \"table_name\": \"college_football_players\",\n",
    "        \"column_name\": column_names,\n",
    "        \"column_type\": (\n",
    "            \"VARCHAR\",\n",
    "            \"VARCHAR\",\n",
    "            \"VARCHAR\",\n",
    "            \"VARCHAR\",\n",
    "            \"FLOAT4\",\n",
    "            \"FLOAT4\",\n",
    "            \"VARCHAR\",\n",
    "            \"VARCHAR\",\n",
    "            \"VARCHAR\",\n",
    "            \"INT2 PRIMARY KEY\",\n",
    "        ),\n",
    "    },\n",
    ")\n",
    "my_db.create_tables(table_dict)"
   ]
  },
  {
   "cell_type": "code",
   "execution_count": 32,
   "metadata": {},
   "outputs": [
    {
     "name": "stdout",
     "output_type": "stream",
     "text": [
      "('Cincinnati Bearcats', 'Cincinnati', 'Ralph Abernathy', 'RB', 67.0, 161.0, 'JR', 'ATLANTA, GA', 'GA', 1)\n"
     ]
    }
   ],
   "source": [
    "for row in df.iterrows():\n",
    "    row = row[1].values\n",
    "    print(tuple(row))\n",
    "    break"
   ]
  },
  {
   "cell_type": "code",
   "execution_count": 33,
   "metadata": {},
   "outputs": [],
   "source": [
    "for row in df.iterrows():\n",
    "   row = row[1].values\n",
    "   table_values = {'table_name': 'college_football_players',\n",
    "               'column_name': column_names,\n",
    "               'column_value': tuple(row)\n",
    "               }\n",
    "   my_db.insert_table(table_values)"
   ]
  }
 ],
 "metadata": {
  "kernelspec": {
   "display_name": "data_engineering",
   "language": "python",
   "name": "python3"
  },
  "language_info": {
   "codemirror_mode": {
    "name": "ipython",
    "version": 3
   },
   "file_extension": ".py",
   "mimetype": "text/x-python",
   "name": "python",
   "nbconvert_exporter": "python",
   "pygments_lexer": "ipython3",
   "version": "3.9.20"
  }
 },
 "nbformat": 4,
 "nbformat_minor": 2
}
