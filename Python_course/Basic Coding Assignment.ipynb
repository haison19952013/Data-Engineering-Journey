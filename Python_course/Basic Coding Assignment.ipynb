{
 "cells": [
  {
   "cell_type": "markdown",
   "id": "4076e69b",
   "metadata": {},
   "source": [
    "## Swapping\n",
    "\n",
    "You are given two integer variables,  x and y. You have to swap the values stored in x and y.\n",
    "\n",
    "----------------------------------------------------------------------\n",
    "#### Input:\n",
    "Two numbers x and y separated by a comma.\n",
    "\n",
    "#### Output:\n",
    "Print 5 lines. The first two lines will have values of variables shown before swapping, and the last two lines will have values of variables shown after swapping. The third line will be blank.\n",
    "\n",
    "----------------------------------------------------------------------\n",
    "#### Sample input:\n",
    "5, 10\n",
    "\n",
    "#### Sample output:\n",
    "x before swapping: 5\n",
    "y before swapping: 10\n",
    "\n",
    "x after swapping: 10\n",
    "y after swapping: 5"
   ]
  },
  {
   "cell_type": "code",
   "execution_count": 18,
   "id": "8dd6b563",
   "metadata": {},
   "outputs": [
    {
     "name": "stdout",
     "output_type": "stream",
     "text": [
      "x before swapping: 5\n",
      "y before swapping: 10\n",
      "x after swapping: 10\n",
      "y after swapping: 5\n",
      "\n"
     ]
    }
   ],
   "source": [
    "def swap(x,y):\n",
    "  print(f'x before swapping: {x}')\n",
    "  print(f'y before swapping: {y}')\n",
    "  temp = x\n",
    "  x = y\n",
    "  y = temp\n",
    "  print(f'x after swapping: {x}')\n",
    "  print(f'y after swapping: {y}')\n",
    "  print()\n",
    "\n",
    "x, y = 5, 10\n",
    "swap(x, y)"
   ]
  },
  {
   "cell_type": "markdown",
   "id": "dfa8d473",
   "metadata": {},
   "source": [
    "### Swapping Opinion\n",
    "#### Can you swap two variables in python without using a third variable as Sajan showed?\n",
    "\n",
    "Hint: There is more than one way, let's see how many can you think of!"
   ]
  },
  {
   "cell_type": "markdown",
   "id": "6f6b0336",
   "metadata": {},
   "source": [
    "Answer: "
   ]
  },
  {
   "cell_type": "code",
   "execution_count": 22,
   "id": "950cd730",
   "metadata": {},
   "outputs": [
    {
     "name": "stdout",
     "output_type": "stream",
     "text": [
      "x before swapping: 5\n",
      "y before swapping: 10\n",
      "x after swapping: 10\n",
      "y after swapping: 5\n",
      "\n",
      "x before swapping: 5\n",
      "y before swapping: 10\n",
      "x after swapping: 10.0\n",
      "y after swapping: 5.0\n",
      "\n"
     ]
    }
   ],
   "source": [
    "def swap_wo_third_var1(x,y):\n",
    "  print(f'x before swapping: {x}')\n",
    "  print(f'y before swapping: {y}')\n",
    "  x = x + y\n",
    "  y = x - y\n",
    "  x = x - y\n",
    "  print(f'x after swapping: {x}')\n",
    "  print(f'y after swapping: {y}')\n",
    "  print()\n",
    "\n",
    "def swap_wo_third_var2(x,y):\n",
    "  print(f'x before swapping: {x}')\n",
    "  print(f'y before swapping: {y}')\n",
    "  x = x * y\n",
    "  y = x / y\n",
    "  x = x / y\n",
    "  print(f'x after swapping: {x}')\n",
    "  print(f'y after swapping: {y}')\n",
    "  print()\n",
    "\n",
    "x, y = 5, 10\n",
    "swap_wo_third_var1(x, y)\n",
    "swap_wo_third_var2(x, y)"
   ]
  },
  {
   "cell_type": "markdown",
   "id": "107fdb8e",
   "metadata": {},
   "source": [
    "## Even Or Odd\n",
    "\n",
    "Given an integer, print whether it is Even or Odd.\n",
    "\n",
    "----------------------------------------------------------------------\n",
    "#### Input:\n",
    "An integer\n",
    "\n",
    "#### Output:\n",
    "'Even' or 'Odd'\n",
    "\n",
    "----------------------------------------------------------------------\n",
    "#### Sample input:\n",
    "11\n",
    "\n",
    "#### Sample output:\n",
    "Odd\n",
    "\n",
    "----------------------------------------------------------------------\n",
    "#### Sample input:\n",
    "2\n",
    "\n",
    "#### Sample output:\n",
    "Even"
   ]
  },
  {
   "cell_type": "code",
   "execution_count": 24,
   "id": "42d159ea",
   "metadata": {},
   "outputs": [
    {
     "name": "stdout",
     "output_type": "stream",
     "text": [
      "Even\n"
     ]
    }
   ],
   "source": [
    "def even_or_odd(x):\n",
    "  if x % 2 == 0:\n",
    "    print('Even')\n",
    "  else:\n",
    "    print('Odd')\n",
    "even_or_odd(2)"
   ]
  },
  {
   "cell_type": "markdown",
   "id": "0e64c91e",
   "metadata": {},
   "source": [
    "## Beautiful Pretty Sexy\n",
    "\n",
    "A number k is beautiful if it is of the form 3n+1, is pretty if it is of the form 3n+2 and is sexy if it is of form 3n.\n",
    "Given a number k, print if it is beautiful, pretty or sexy.\n",
    "\n",
    "#### Sample input:\n",
    "21\n",
    "\n",
    "#### Sample output:\n",
    "sexy\n",
    "\n",
    "#### Sample input:\n",
    "22\n",
    "\n",
    "#### Sample output:\n",
    "beautiful\n",
    "\n",
    "#### Sample input:\n",
    "23\n",
    "\n",
    "#### Sample output:\n",
    "pretty\n"
   ]
  },
  {
   "cell_type": "code",
   "execution_count": 25,
   "id": "518a7ab5",
   "metadata": {},
   "outputs": [
    {
     "name": "stdout",
     "output_type": "stream",
     "text": [
      "sexy\n",
      "beautiful\n",
      "pretty\n"
     ]
    }
   ],
   "source": [
    "def beautiful_pretty_sexy(x):\n",
    "  if (x - 1) % 3 == 0:\n",
    "    print('beautiful')\n",
    "  elif (x - 2) % 3 == 0:\n",
    "    print('pretty')\n",
    "  elif (x - 3) % 3 == 0:\n",
    "    print('sexy')\n",
    "beautiful_pretty_sexy(21)\n",
    "beautiful_pretty_sexy(22)\n",
    "beautiful_pretty_sexy(23)"
   ]
  },
  {
   "cell_type": "markdown",
   "id": "c5f9413a",
   "metadata": {},
   "source": [
    "### Opinion\n",
    "##### The process followed while coding any question is first to understand the problem, get to know and break it down, then think of what/how you can approach it with the tools at hand, and then implement it. Can you think of a problem you solved in your experience with a similar approach?"
   ]
  },
  {
   "cell_type": "markdown",
   "id": "b909294b",
   "metadata": {},
   "source": [
    "Answer: "
   ]
  },
  {
   "cell_type": "markdown",
   "id": "cc87ae42",
   "metadata": {},
   "source": [
    "## Alarm Clock\n",
    "\n",
    "You're trying to automate your alarm clock by writing a function for it. You're given a day of the week encoded as 1=Mon, 2=Tue, ... 6=Sat, 7=Sun, and whether you are on vacation as a boolean value (a boolean object is either True or False. Google \"booleans python\" to get a better understanding). Based on the day and whether you're on vacation, write a function that returns a time in form of a string indicating when the alarm clock should ring. \n",
    "\n",
    "When not on a vacation, on weekdays, the alarm should ring at \"7:00\" and on the weekends (Saturday and Sunday) it should ring at \"10:00\". \n",
    "\n",
    "While on a vacation, it should ring at \"10:00\" on weekdays. On vacation, it should not ring on weekends, that is, it should return \"off\".\n",
    "\n",
    "----------------------------------------------------------------------\n",
    "#### Input:\n",
    "The input will be a list of two elements. The first element will be an integer from 1 to 7, and the second element will be a boolean value.\n",
    "\n",
    "#### Output:\n",
    "The output will be a string denoting the time alarm will ring or 'off'\n",
    "\n",
    "----------------------------------------------------------------------\n",
    "#### Sample input:\n",
    "[7, True]\n",
    "\n",
    "#### Sample output:\n",
    "off\n",
    "\n",
    "----------------------------------------------------------------------\n",
    "#### Sample input:\n",
    "[3, True]\n",
    "\n",
    "#### Sample output:\n",
    "10:00\n",
    "\n",
    "----------------------------------------------------------------------"
   ]
  },
  {
   "cell_type": "code",
   "execution_count": 30,
   "id": "19ac18b5",
   "metadata": {},
   "outputs": [
    {
     "name": "stdout",
     "output_type": "stream",
     "text": [
      "off\n",
      "10:00\n"
     ]
    }
   ],
   "source": [
    "def alarm_clock(day,if_vacation):\n",
    "  assert type(day) == int and day <= 7, 'day should be int and smaller than 8'\n",
    "  if if_vacation:\n",
    "    if day in [6, 7]:\n",
    "      ring = 'off'\n",
    "    else:\n",
    "      ring = '10:00'\n",
    "  else:\n",
    "    if day in [6, 7]:\n",
    "      ring = '10:00'\n",
    "    else:\n",
    "      ring = '7:00'\n",
    "  print(ring)\n",
    "# alarm_clock(2., True)\n",
    "alarm_clock(7, True)\n",
    "alarm_clock(3, True)"
   ]
  },
  {
   "cell_type": "markdown",
   "id": "f5ab52ed",
   "metadata": {},
   "source": [
    "## Factorial\n",
    "\n",
    "Factorial is a mathematical function denoted by '!'. It is defined as\n",
    "\n",
    "n factorial = n!= 1*2*3...*(n-1)*n\n",
    "\n",
    "In this question, you have to make a function that will take an integer as input, and return the factorial of that integer if that integer is greater than or equal to zero and return -1 if the number is less than zero or negative.\n",
    "\n",
    "Note: the function doesn't return print the factorial but returns it.\n",
    "\n",
    "----------------------------------------------------------------------\n",
    "#### Input:\n",
    "An integer n\n",
    "\n",
    "#### Output:\n",
    "The function returns n! if n is greater than or equal to 0.\n",
    "0! = 1\n",
    "and the function returns -1 if the number is less than 0.\n",
    "\n",
    "----------------------------------------------------------------------\n",
    "#### Sample input:\n",
    "3\n",
    "\n",
    "#### Sample output:\n",
    "6\n",
    "\n",
    "----------------------------------------------------------------------\n",
    "#### Sample input:\n",
    "-4\n",
    "\n",
    "#### Sample output:\n",
    "-1"
   ]
  },
  {
   "cell_type": "code",
   "execution_count": null,
   "id": "282e361f",
   "metadata": {},
   "outputs": [
    {
     "name": "stdout",
     "output_type": "stream",
     "text": [
      "6\n",
      "-1\n"
     ]
    }
   ],
   "source": [
    "def factorial(x):\n",
    "    assert type(x) == int, 'x should be int'\n",
    "    if x == 0:\n",
    "        return 1\n",
    "    elif x < 0:\n",
    "        return -1\n",
    "    else:\n",
    "        return x * factorial(x-1)\n",
    "    # for i in list(range(x)):\n",
    "    #   output *= (i+1)\n",
    "    # return output \n",
    "print(factorial(3))\n",
    "print(factorial(-4))"
   ]
  },
  {
   "cell_type": "markdown",
   "id": "96a00f55",
   "metadata": {},
   "source": [
    "## Reverse The Digits\n",
    "\n",
    "You will be given a number. You have to reverse the digits of the number and print it.\n",
    "\n",
    "----------------------------------------------------------------------\n",
    "#### Input:\n",
    "A positive integer greater than zero\n",
    "\n",
    "#### Output:\n",
    "The number in reverse order. Check sample outputs for more details.\n",
    "\n",
    "----------------------------------------------------------------------\n",
    "#### Sample input:\n",
    "345200\n",
    "\n",
    "#### Sample output:\n",
    "2543\n",
    "\n",
    "----------------------------------------------------------------------\n",
    "#### Sample input:\n",
    "6752343\n",
    "\n",
    "#### Sample output:\n",
    "3432576"
   ]
  },
  {
   "cell_type": "code",
   "execution_count": null,
   "id": "6a232175",
   "metadata": {},
   "outputs": [
    {
     "name": "stdout",
     "output_type": "stream",
     "text": [
      "2543\n",
      "3432576\n"
     ]
    }
   ],
   "source": [
    "def reverse_digit(x):\n",
    "    text = str(x)\n",
    "    reverse_text = text[::-1]\n",
    "    return int(reverse_text)\n",
    "print(reverse_digit(34520))\n",
    "print(reverse_digit(6752343))"
   ]
  },
  {
   "cell_type": "markdown",
   "id": "07fff1cf",
   "metadata": {},
   "source": [
    "## How Many Chocolates?\n",
    "\n",
    "Sanjay loves chocolates. He goes to a shop to buy his favourite chocolate. There he notices there is an offer going on, upon bringing 3 wrappers of the same chocolate, you will get new chocolate for free. If Sanjay has m Rupees. How many chocolates will he be able to eat if each chocolate costs c Rupees?\n",
    "\n",
    "----------------------------------------------------------------------\n",
    "#### Input:\n",
    "Two positive integers m and c separated by a comma. The first integer is m and the second integer is c \n",
    "\n",
    "#### Output:\n",
    "A single integer denoting the number of chocolates Sanjay was able to eat in total.\n",
    "\n",
    "----------------------------------------------------------------------\n",
    "#### Sample input:\n",
    "15, 2\n",
    "\n",
    "#### Sample output:\n",
    "10\n",
    "\n",
    "##### Explanation:\n",
    "First, he will get 15/2=7 chocolates. He then will return 6 wrappers for 2 chocolates. And lastly, these two wrappers and the one he previously had will get him one more chocolate, making a total of 7+2+1=10 chocolates.\n",
    "\n",
    "----------------------------------------------------------------------\n",
    "#### Sample input:\n",
    "3,1\n",
    "\n",
    "#### Sample output:\n",
    "4"
   ]
  },
  {
   "cell_type": "code",
   "execution_count": 39,
   "id": "6d1fa772",
   "metadata": {},
   "outputs": [
    {
     "data": {
      "text/plain": [
       "0"
      ]
     },
     "execution_count": 39,
     "metadata": {},
     "output_type": "execute_result"
    }
   ],
   "source": [
    "0 // 3"
   ]
  },
  {
   "cell_type": "code",
   "execution_count": 60,
   "id": "b4b0c913",
   "metadata": {},
   "outputs": [
    {
     "name": "stdout",
     "output_type": "stream",
     "text": [
      "10\n",
      "4\n"
     ]
    }
   ],
   "source": [
    "def count_chocolate(m, c):\n",
    "    money = 0\n",
    "    current_chocolate = 0\n",
    "    current_wrapper = 0\n",
    "    while money <= m:\n",
    "        if money == 0:\n",
    "            money += c\n",
    "            continue\n",
    "        else:\n",
    "            current_chocolate += 1\n",
    "            current_wrapper +=1\n",
    "            # print('money',money)\n",
    "            # print('wrapper', current_wrapper)\n",
    "            # print('choco',current_chocolate)\n",
    "            if current_wrapper == 3:\n",
    "                current_chocolate += 1\n",
    "                current_wrapper = 1     \n",
    "            #     print('choco',current_chocolate)  \n",
    "            # print()\n",
    "            money += c      \n",
    "    # print(money)\n",
    "    return current_chocolate\n",
    "            \n",
    "print(count_chocolate(15, 2))\n",
    "print(count_chocolate(3, 1))"
   ]
  },
  {
   "cell_type": "markdown",
   "id": "74efbe88",
   "metadata": {},
   "source": [
    "## Print The Pattern\n",
    "\n",
    "Printing different patterns is a very good exercise to reinforce iteration through loops and strong logic building. Here you will be given a positive integer and you will generate pattern based on that integer.\n",
    "\n",
    "----------------------------------------------------------------------\n",
    "#### Input:\n",
    "A positive integer n\n",
    "1 <= n <=20\n",
    "\n",
    "#### Output:\n",
    "A pattern as described by the Sample input and outputs below.\n",
    "\n",
    "----------------------------------------------------------------------\n",
    "#### Sample input:\n",
    "5\n",
    "\n",
    "#### Sample output:\n",
    "```\n",
    "    *\n",
    "   *_*\n",
    "  *_*_*\n",
    " *_*_*_*\n",
    "*_*_*_*_*\n",
    "```\n",
    "----------------------------------------------------------------------\n",
    "#### Sample input:\n",
    "3\n",
    "\n",
    "#### Sample output:\n",
    "```\n",
    "  *\n",
    " *_*\n",
    "*_*_*\n",
    "```"
   ]
  },
  {
   "cell_type": "code",
   "execution_count": 91,
   "id": "a770f457",
   "metadata": {},
   "outputs": [
    {
     "name": "stdout",
     "output_type": "stream",
     "text": [
      "       *\n",
      "      *_*\n",
      "     *_*_*\n",
      "    *_*_*_*\n",
      "   *_*_*_*_*\n",
      "  *_*_*_*_*_*\n",
      " *_*_*_*_*_*_*\n",
      "*_*_*_*_*_*_*_*\n"
     ]
    }
   ],
   "source": [
    "def print_pattern(n):\n",
    "    for i in range(n):\n",
    "        spaces = n - (i+1)\n",
    "        pattern = ' ' * spaces\n",
    "        star_num_max = 2 * i + 1\n",
    "        for j in range(star_num_max):\n",
    "            if j % 2 == 0:\n",
    "                pattern += '*'\n",
    "            else:\n",
    "                pattern += '_'\n",
    "        print(pattern) \n",
    "print_pattern(8)"
   ]
  }
 ],
 "metadata": {
  "kernelspec": {
   "display_name": "data_engineering",
   "language": "python",
   "name": "python3"
  },
  "language_info": {
   "codemirror_mode": {
    "name": "ipython",
    "version": 3
   },
   "file_extension": ".py",
   "mimetype": "text/x-python",
   "name": "python",
   "nbconvert_exporter": "python",
   "pygments_lexer": "ipython3",
   "version": "3.9.20"
  }
 },
 "nbformat": 4,
 "nbformat_minor": 5
}
