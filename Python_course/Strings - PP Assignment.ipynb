{
 "cells": [
  {
   "cell_type": "markdown",
   "id": "4076e69b",
   "metadata": {},
   "source": [
    "## Palindrome String\n",
    "\n",
    "Write a program to check whether a string is a palindrome or not. Print 1 if the string is a palindrome and 0 otherwise.\n",
    "\n",
    "Note: Please ensure that your program should not be case-sensitive. So, if the input is, say, “HAnnah”, then, its output should be 1.\n",
    "\n",
    "----------------------------------------------------------------------\n",
    "#### Input:\n",
    "A string\n",
    "\n",
    "#### Output:\n",
    "1 if the string is a palindrome, 0 otherwise\n",
    "\n",
    "----------------------------------------------------------------------\n",
    "#### Sample input:\n",
    "HAnnah\n",
    "\n",
    "#### Sample output:\n",
    "1\n",
    "\n",
    "----------------------------------------------------------------------\n",
    "#### Sample input:\n",
    "Rebecca\n",
    "\n",
    "#### Sample output:\n",
    "0\n"
   ]
  },
  {
   "cell_type": "code",
   "execution_count": null,
   "id": "8dd6b563",
   "metadata": {},
   "outputs": [
    {
     "data": {
      "text/plain": [
       "0"
      ]
     },
     "execution_count": 2,
     "metadata": {},
     "output_type": "execute_result"
    }
   ],
   "source": [
    "def if_palindrome(text):\n",
    "    text = text.lower()\n",
    "    text_reverse = text[::-1]\n",
    "    if text == text_reverse:\n",
    "        return 1\n",
    "    else:\n",
    "        return 0\n",
    "\n",
    "print(if_palindrome('HAnnah'))\n",
    "print(if_palindrome('Rebecca'))  "
   ]
  },
  {
   "cell_type": "markdown",
   "id": "dfa8d473",
   "metadata": {},
   "source": [
    "### Opinion\n",
    "#### What would you change in your code if you wanted it to be case sensitive?\n",
    "\n",
    "#### That is, HannAh would no longer be a palindrome because its reverse will be hAnnaH\n"
   ]
  },
  {
   "cell_type": "markdown",
   "id": "6f6b0336",
   "metadata": {},
   "source": [
    "Answer: "
   ]
  },
  {
   "cell_type": "code",
   "execution_count": null,
   "id": "f2f0b2b1",
   "metadata": {},
   "outputs": [
    {
     "name": "stdout",
     "output_type": "stream",
     "text": [
      "0\n",
      "0\n"
     ]
    }
   ],
   "source": [
    "def if_palindrome(text, case_sensitive = False):\n",
    "    if not case_sensitive:\n",
    "        text = text.lower()\n",
    "    text_reverse = text[::-1]\n",
    "    if text == text_reverse:\n",
    "        return 1\n",
    "    else:\n",
    "        return 0\n",
    "\n",
    "print(if_palindrome('HAnnah', case_sensitive = True))\n",
    "print(if_palindrome('Rebecca', case_sensitive = True) )"
   ]
  },
  {
   "cell_type": "markdown",
   "id": "107fdb8e",
   "metadata": {},
   "source": [
    "## Reverse Words\n",
    "\n",
    "You will be given a sentence in the form of a string. You have to reverse the order of the words in the sentence. Remember not to reverse the individual words, but the order of words. Check the sample input-output for further clarification.\n",
    "\n",
    "----------------------------------------------------------------------\n",
    "#### Input:\n",
    "A string, which will consist of a few spaces.\n",
    "\n",
    "#### Output:\n",
    "The words in reverse order.\n",
    "\n",
    "----------------------------------------------------------------------\n",
    "#### Sample input:\n",
    "I love coding in python\n",
    "\n",
    "#### Sample output:\n",
    "python in coding love I\n",
    "\n",
    "----------------------------------------------------------------------\n",
    "#### Sample input:\n",
    "python is super easy and fun\n",
    "\n",
    "#### Sample output:\n",
    "fun and easy super is python"
   ]
  },
  {
   "cell_type": "code",
   "execution_count": 9,
   "id": "42d159ea",
   "metadata": {},
   "outputs": [
    {
     "name": "stdout",
     "output_type": "stream",
     "text": [
      "python in coding love I\n",
      "fun and easy super is python\n"
     ]
    }
   ],
   "source": [
    "def reverse_sentence(sentence):\n",
    "    sentence = sentence.split()\n",
    "    sentence = sentence[::-1]\n",
    "    sentence = ' '.join(sentence)\n",
    "    return sentence\n",
    "print(reverse_sentence('I love coding in python'))\n",
    "print(reverse_sentence('python is super easy and fun'))"
   ]
  },
  {
   "cell_type": "markdown",
   "id": "cc87ae42",
   "metadata": {},
   "source": [
    "## No Spaces\n",
    "\n",
    "While naming entities, it is a common practice to avoid spaces. That is the reason you see so many people using underscores instead of spaces. \n",
    "\n",
    "You will be given a string, containing a few spaces and random upper and lower cases. You have to write a code that will add underscore in place of spaces and also capitalise the letters properly, i.e. the first letter after underscore should be in upper case and the first letter of the string should be in upper case, all of the other letters should be lower case. \n",
    "This type of activity is frequently encountered while starting to analyse data. This is called Data cleaning and you will learn more about it in upcoming modules.\n",
    "\n",
    "----------------------------------------------------------------------\n",
    "#### Input:\n",
    "A string of only alphabets and spaces\n",
    "\n",
    "#### Output:\n",
    "A string formatted as stated above. See sample input/output for more clarification,\n",
    "\n",
    "----------------------------------------------------------------------\n",
    "#### Sample input:\n",
    "caloRie consuMed\n",
    "\n",
    "#### Sample output:\n",
    "Calorie_Consumed\n",
    "\n",
    "----------------------------------------------------------------------\n",
    "#### Sample input:\n",
    "data engineer\n",
    "\n",
    "#### Sample output:\n",
    "Data_Engineer"
   ]
  },
  {
   "cell_type": "code",
   "execution_count": 11,
   "id": "19ac18b5",
   "metadata": {},
   "outputs": [
    {
     "name": "stdout",
     "output_type": "stream",
     "text": [
      "Calorie_Consumed\n",
      "Data_Engineer\n"
     ]
    }
   ],
   "source": [
    "def no_space(text):\n",
    "    text = text.lower().title().split()\n",
    "    text = '_'.join(text)\n",
    "    return text\n",
    "print(no_space('caloRie consuMed'))\n",
    "print(no_space('data engineer'))"
   ]
  },
  {
   "cell_type": "markdown",
   "id": "96a00f55",
   "metadata": {},
   "source": [
    "## Shift Vowels\n",
    "\n",
    "Write a program that receives a string and shifts all the vowels present in it to the beginning. Output the resultant string. The order of all the vowels with respect to each other as well as the order of all the other characters with respect to each other should stay the same.\n",
    "\n",
    "----------------------------------------------------------------------\n",
    "#### Input:\n",
    "A string\n",
    "\n",
    "#### Output:\n",
    "Vowels shifted to the beginning in the input string.\n",
    "\n",
    "----------------------------------------------------------------------\n",
    "#### Sample input:\n",
    "programming\n",
    "\n",
    "#### Sample output:\n",
    "oaiprgrmmng\n",
    "\n",
    "----------------------------------------------------------------------\n",
    "#### Sample input:\n",
    "You love Python!\n",
    "\n",
    "#### Sample output:\n",
    "ouoeoY lv Pythn!\n",
    "\n",
    "----------------------------------------------------------------------\n",
    "##### Explanation:\n",
    "All the vowels have been shifted to the beginning in order. The order of all the other characters remains the same."
   ]
  },
  {
   "cell_type": "code",
   "execution_count": 14,
   "id": "6a232175",
   "metadata": {},
   "outputs": [
    {
     "name": "stdout",
     "output_type": "stream",
     "text": [
      "oaiprgrmmng\n",
      "ouoeoY lv Pythn!\n"
     ]
    }
   ],
   "source": [
    "def shift_vowel(text):\n",
    "    vowels_dict = 'ueoai'\n",
    "    vowels = []\n",
    "    non_vowels = []\n",
    "    for t in text:\n",
    "        if t in vowels_dict:\n",
    "            vowels.append(t)\n",
    "        else:\n",
    "            non_vowels.append(t)\n",
    "    return ''.join(vowels) + ''.join(non_vowels)\n",
    "print(shift_vowel('programming'))\n",
    "print(shift_vowel('You love Python!'))"
   ]
  },
  {
   "cell_type": "markdown",
   "id": "07fff1cf",
   "metadata": {},
   "source": [
    "## Common Prefix\n",
    "\n",
    "You will be given two strings. You have to find the largest prefix common in both the strings.\n",
    "\n",
    "\n",
    "\n",
    "----------------------------------------------------------------------\n",
    "\n",
    "#### Input:\n",
    "\n",
    "Two lines of input, one string on each line\n",
    "\n",
    "\n",
    "\n",
    "#### Output:\n",
    "\n",
    "The common largest prefix for both strings. Check sample input/output for clarification. -1 if no prefix is common.\n",
    "\n",
    "\n",
    "\n",
    "----------------------------------------------------------------------\n",
    "\n",
    "#### Sample input:\n",
    "\n",
    "abshdksajd\n",
    "\n",
    "abshiehand\n",
    "\n",
    "\n",
    "\n",
    "#### Sample output:\n",
    "\n",
    "absh\n",
    "\n",
    "\n",
    "\n",
    "----------------------------------------------------------------------\n",
    "\n",
    "#### Sample input:\n",
    "\n",
    "BeeBongBenh\n",
    "\n",
    "beebongBay\n",
    "\n",
    "\n",
    "\n",
    "#### Sample output:\n",
    "\n",
    "beebong\n",
    "\n",
    "\n",
    "\n",
    "----------------------------------------------------------------------\n",
    "\n",
    "#### Sample input:\n",
    "\n",
    "upgrade\n",
    "\n",
    "UpgradeSkill\n",
    "\n",
    "\n",
    "\n",
    "#### Sample output:\n",
    "\n",
    "upgrade"
   ]
  },
  {
   "cell_type": "code",
   "execution_count": 18,
   "id": "b4b0c913",
   "metadata": {},
   "outputs": [
    {
     "name": "stdout",
     "output_type": "stream",
     "text": [
      "absh\n",
      "beebongb\n",
      "upgrade\n"
     ]
    }
   ],
   "source": [
    "def get_common_prefix(text1, text2):\n",
    "    text1 = text1.lower()\n",
    "    text2 = text2.lower()\n",
    "    common_prefix = []\n",
    "    for idx, t1 in enumerate(text1):\n",
    "        if idx > len(text2) - 1:\n",
    "            break\n",
    "        if t1 == text2[idx]:\n",
    "            common_prefix.append(t1)\n",
    "        else:\n",
    "            break\n",
    "    return ''.join(common_prefix) if len(common_prefix) != 0 else -1\n",
    "            \n",
    "print(get_common_prefix('abshdksajd','abshiehand'))  \n",
    "print(get_common_prefix('BeeBongBenh','beebongBay'))      \n",
    "print(get_common_prefix('upgrade','UpgradeSkill'))        "
   ]
  },
  {
   "cell_type": "markdown",
   "id": "36cc1284",
   "metadata": {},
   "source": [
    "### Opinion\n",
    "\n",
    "#### In this segment, you solved the problem to find common prefix from given only two strings. Can you now scale this problem up and find out the common prefix in a list of strings? How would you do it?\n",
    "\n"
   ]
  },
  {
   "cell_type": "markdown",
   "id": "a2c4f54d",
   "metadata": {},
   "source": [
    "Answer: "
   ]
  },
  {
   "cell_type": "code",
   "execution_count": 28,
   "id": "e2dfc39d",
   "metadata": {},
   "outputs": [
    {
     "name": "stdout",
     "output_type": "stream",
     "text": [
      "ab\n",
      "-1\n",
      "upgrade\n"
     ]
    }
   ],
   "source": [
    "def get_common_prefix_scale(str_list):\n",
    "    str_list = [i.lower() for i in str_list]\n",
    "    common_prefix = []\n",
    "    for idx, t1 in enumerate(str_list[0]):\n",
    "        count = 0\n",
    "        for str in str_list[1:]:\n",
    "            if idx > len(str) - 1:\n",
    "                return ''.join(common_prefix) if len(common_prefix) != 0 else -1\n",
    "            if t1 == str[idx]:\n",
    "                count += 1\n",
    "            else: \n",
    "                return ''.join(common_prefix) if len(common_prefix) != 0 else -1\n",
    "        if count == len(str_list[1:]):\n",
    "            common_prefix.append(t1)\n",
    "    return ''.join(common_prefix) if len(common_prefix) != 0 else -1\n",
    "            \n",
    "print(get_common_prefix_scale(['abshdksajd','abshiehand', 'abshiehand', 'ab']))  \n",
    "print(get_common_prefix_scale(['BeeBongBenh','beebongBay', '1']))      \n",
    "print(get_common_prefix_scale(['upgrade','UpgradeSkill']))     "
   ]
  },
  {
   "cell_type": "markdown",
   "id": "3e39c8a4",
   "metadata": {},
   "source": [
    "## Anagrams\n",
    "\n",
    "Two strings are anagrams of each other if you can rearrange the characters of one string to make the other string.\n",
    "Given two strings, can you find if they are anagrams or no?\n",
    "\n",
    "----------------------------------------------------------------------\n",
    "#### Input:\n",
    "Two lines of input, each line will contain a string without space.\n",
    "\n",
    "#### Output:\n",
    "True or False based on whether the strings are anagrams or not.\n",
    "\n",
    "----------------------------------------------------------------------\n",
    "#### Sample input:\n",
    "```\n",
    "thing\n",
    "night\n",
    "```\n",
    "\n",
    "#### Sample output:\n",
    "True\n",
    "\n",
    "----------------------------------------------------------------------\n",
    "#### Sample input:\n",
    "```\n",
    "staff\n",
    "found\n",
    "```\n",
    "\n",
    "#### Sample output:\n",
    "False\n",
    "\n",
    "----------------------------------------------------------------------\n",
    "##### Note: the code will be case-Sensitive\n",
    "##### Hint: if the length of the strings doesn't match, the strings are obviously not anagrams."
   ]
  },
  {
   "cell_type": "code",
   "execution_count": 31,
   "id": "9d9e9848",
   "metadata": {},
   "outputs": [
    {
     "name": "stdout",
     "output_type": "stream",
     "text": [
      "True\n",
      "False\n"
     ]
    }
   ],
   "source": [
    "def if_anagrams(text1,text2):\n",
    "    if len(text1) != len(text2):\n",
    "        return False\n",
    "    dict_1 = {}\n",
    "    dict_2 = {}\n",
    "    for t in text1:\n",
    "        if t in dict_1.keys():\n",
    "            dict_1[t] +=1\n",
    "        else:\n",
    "            dict_1[t] = 1\n",
    "    \n",
    "    for t in text2:\n",
    "        if t in dict_2.keys():\n",
    "            dict_2[t] +=1\n",
    "        else:\n",
    "            dict_2[t] = 1\n",
    "    dict_1 = dict(sorted(dict_1.items(), key=lambda item: item[0], reverse=False))\n",
    "    dict_2 = dict(sorted(dict_2.items(), key=lambda item: item[0], reverse=False))\n",
    "    return True if dict_1 == dict_2 else False\n",
    "print(if_anagrams('thing','night'))\n",
    "print(if_anagrams('staff','found'))"
   ]
  }
 ],
 "metadata": {
  "kernelspec": {
   "display_name": "data_engineering",
   "language": "python",
   "name": "python3"
  },
  "language_info": {
   "codemirror_mode": {
    "name": "ipython",
    "version": 3
   },
   "file_extension": ".py",
   "mimetype": "text/x-python",
   "name": "python",
   "nbconvert_exporter": "python",
   "pygments_lexer": "ipython3",
   "version": "3.9.20"
  }
 },
 "nbformat": 4,
 "nbformat_minor": 5
}
