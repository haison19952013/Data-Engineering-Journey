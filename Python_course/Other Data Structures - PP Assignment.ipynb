{
 "cells": [
  {
   "cell_type": "markdown",
   "id": "4076e69b",
   "metadata": {},
   "source": [
    "## Remove Duplicates\n",
    "\n",
    "Sometimes the data has few duplicate values which will affect the analysis done. In this problem, you will be given a list. You have to find and delete the duplicates and print the updated list with no duplicates.\n",
    "\n",
    "----------------------------------------------------------------------\n",
    "#### Input:\n",
    "A list of integers.\n",
    "\n",
    "#### Output:\n",
    "A list of integers, with duplicates removed if any.\n",
    "\n",
    "----------------------------------------------------------------------\n",
    "#### Sample input:\n",
    "[8, 9, 2, 2, 3, 4, 5, 2]\n",
    "\n",
    "#### Sample output:\n",
    "[8, 9, 2, 3, 4, 5]\n",
    "\n",
    "----------------------------------------------------------------------\n",
    "#### Sample input:\n",
    "[4, 4, 4, 4]\n",
    "\n",
    "#### Sample output:\n",
    "[4]\n",
    "\n",
    "----------------------------------------------------------------------\n",
    "Note the order of the data did not change in input and output."
   ]
  },
  {
   "cell_type": "code",
   "execution_count": 4,
   "id": "8dd6b563",
   "metadata": {},
   "outputs": [
    {
     "name": "stdout",
     "output_type": "stream",
     "text": [
      "[8, 9, 2, 3, 4, 5]\n",
      "[4]\n"
     ]
    }
   ],
   "source": [
    "def remove_duplicate(value_list):\n",
    "    dict_list = {}\n",
    "    for i in value_list:\n",
    "        if i in dict_list.keys():\n",
    "            continue\n",
    "        else:\n",
    "            dict_list[i] = 0\n",
    "    return list(dict_list.keys())\n",
    "\n",
    "print(remove_duplicate([8, 9, 2, 2, 3, 4, 5, 2]))\n",
    "print(remove_duplicate([4,4,4,4]))"
   ]
  },
  {
   "cell_type": "markdown",
   "id": "dfa8d473",
   "metadata": {},
   "source": [
    "### Opinion\n",
    "#### Why do you think Sets were not used to solve the above problem? \n"
   ]
  },
  {
   "cell_type": "markdown",
   "id": "6f6b0336",
   "metadata": {},
   "source": [
    "Answer: "
   ]
  },
  {
   "cell_type": "markdown",
   "id": "c8aa09e5",
   "metadata": {},
   "source": [
    ">> Set will sort the values"
   ]
  },
  {
   "cell_type": "markdown",
   "id": "107fdb8e",
   "metadata": {},
   "source": [
    "## Dictionary And List\n",
    "\n",
    "You will be converting a dictionary, of string(keys) and list of string (values),  to a list of strings. Please check the sample input/output for clarification.\n",
    "\n",
    "\n",
    "#### Input:\n",
    "A dictionary with keys as strings and values as a list of strings.\n",
    "\n",
    "#### Output:\n",
    "A list of strings\n",
    "\n",
    "\n",
    "#### Sample input:\n",
    "```\n",
    "{‘Mobile’: [‘Redmi’, ‘Samsung’, ‘Realme’], \n",
    "‘Laptop’: [‘Dell’, ‘HP’],\n",
    "‘TV’: [‘Videocon’, ‘Sony’] }\n",
    "```\n",
    "\n",
    "#### Sample output:\n",
    "```\n",
    "[‘Mobile_Redmi’, ‘Mobile_Samsung’, ‘Mobile_Realme’, ‘Laptop_Dell’, ‘Laptop_HP’, ‘TV_Videocon’, ‘TV_Sony’]\n",
    "```\n",
    "\n",
    "\n",
    "#### Sample input:\n",
    "```\n",
    "{ 'Pen': ['Gel', 'Ink', 'ball'],\n",
    "'Mobile': ['Android', 'apple'] }\n",
    "```\n",
    "\n",
    "#### Sample output:\n",
    "```\n",
    "['Pen_Gel', 'Pen_Ink', 'Pen_ball', 'Mobile_Android', 'Mobile_apple']\n",
    "```"
   ]
  },
  {
   "cell_type": "code",
   "execution_count": 6,
   "id": "42d159ea",
   "metadata": {},
   "outputs": [
    {
     "name": "stdout",
     "output_type": "stream",
     "text": [
      "['Mobile_Redmi', 'Mobile_Samsung', 'Mobile_Realme', 'Laptop_Dell', 'Laptop_HP', 'TV_Videocon', 'TV_Sony']\n",
      "['Pen_Gel', 'Pen_Ink', 'Pen_ball', 'Mobile_Android', 'Mobile_apple']\n"
     ]
    }
   ],
   "source": [
    "def combine_key_value(dict_):\n",
    "    new_list = []\n",
    "    for k, v in dict_.items():\n",
    "        new_list += [f'{k}_{v_i}' for v_i in v]\n",
    "    return new_list\n",
    "print(combine_key_value({'Mobile': ['Redmi', 'Samsung', 'Realme'], 'Laptop': ['Dell', 'HP'], 'TV': ['Videocon', 'Sony'] }))\n",
    "print(combine_key_value({ 'Pen': ['Gel', 'Ink', 'ball'],\n",
    "'Mobile': ['Android', 'apple'] }))"
   ]
  },
  {
   "cell_type": "markdown",
   "id": "cc87ae42",
   "metadata": {},
   "source": [
    "## Uni String\n",
    "\n",
    "For the purpose of this question, we will define something called an Uni string. Note that this definition is not valid outside this question. A string Uni string if the frequency of its characters is something like 1, 2, 3, 4, .... That is a character appears only once, another appears twice, another appears thrice and so on. For example string $yrr$ssrsr is a Uni string since the frequency of y:1, $:2, s:3, r:4, however string ``` $yrr$ssrsr\\% ``` will not be an Uni string since it has two characters (y and \\%) with frequency 1. The frequency of characters should be of form 1, 2, 3, 4, 5... only.\n",
    "\n",
    "Given a string, can you determine if the string is Uni string or no?\n",
    "\n",
    "\n",
    "------------------------\n",
    "\n",
    "#### Input:\n",
    "\n",
    "A string\n",
    "\n",
    "\n",
    "\n",
    "#### Output:\n",
    "\n",
    "Boolean depending whether the string is Uni string or not\n",
    "\n",
    "\n",
    "------------------------\n",
    "\n",
    "\n",
    "#### Sample input:\n",
    "\n",
    "$yrr$ssrsr\n",
    "\n",
    "\n",
    "\n",
    "#### Sample output:\n",
    "\n",
    "True\n",
    "\n",
    "\n",
    "------------------------\n",
    "\n",
    "\n",
    "#### Sample input:\n",
    "\n",
    "$yrr$ssrsr\\%\n",
    "\n",
    "\n",
    "\n",
    "#### Sample output:\n",
    "\n",
    "False\n",
    "\n",
    "------------------------\n",
    "\n",
    "#### Sample input:\n",
    "\n",
    "ab#ab#aba\n",
    "\n",
    "\n",
    "\n",
    "#### Sample output:\n",
    "\n",
    "False\n",
    "\n",
    "------------------------\n",
    "\n",
    "\n",
    "#### Sample input:\n",
    "\n",
    "ab#ab#ab6a\n",
    "\n",
    "\n",
    "\n",
    "#### Sample output:\n",
    "\n",
    "True"
   ]
  },
  {
   "cell_type": "code",
   "execution_count": 15,
   "id": "19ac18b5",
   "metadata": {},
   "outputs": [
    {
     "name": "stdout",
     "output_type": "stream",
     "text": [
      "[1, 2, 3, 4]\n",
      "True\n",
      "[1, 1, 1, 2, 3, 4]\n",
      "False\n",
      "[2, 3, 4]\n",
      "False\n",
      "[1, 2, 3, 4]\n",
      "True\n"
     ]
    }
   ],
   "source": [
    "def uni_string(str):\n",
    "    dict_ = {}\n",
    "    for t in str:\n",
    "        if t in dict_.keys():\n",
    "            dict_[t] +=1\n",
    "        else:\n",
    "            dict_[t] =1\n",
    "    values = sorted(list(dict_.values()))\n",
    "    print(values)\n",
    "    flag = False\n",
    "    if values[0] !=1 :\n",
    "        return flag\n",
    "    for idx, val in enumerate(values):\n",
    "        if idx == len(values) - 1:\n",
    "            flag = True\n",
    "            break\n",
    "        if val + 1 == values[idx + 1]:\n",
    "            continue\n",
    "        else:\n",
    "            break\n",
    "    return flag\n",
    "print(uni_string('$yrr$ssrsr'))\n",
    "print(uni_string('$yrr$ssrsr\\%'))\n",
    "print(uni_string('ab#ab#aba'))\n",
    "print(uni_string('ab#ab#ab6a'))"
   ]
  },
  {
   "cell_type": "markdown",
   "id": "96a00f55",
   "metadata": {},
   "source": [
    "## Shift Vowels\n",
    "\n",
    "Write a program that receives a string and shifts all the vowels present in it to the beginning. Output the resultant string. The order of all the vowels with respect to each other as well as the order of all the other characters with respect to each other should stay the same.\n",
    "\n",
    "----------------------------------------------------------------------\n",
    "#### Input:\n",
    "A string\n",
    "\n",
    "#### Output:\n",
    "Vowels shifted to the beginning in the input string.\n",
    "\n",
    "----------------------------------------------------------------------\n",
    "#### Sample input:\n",
    "programming\n",
    "\n",
    "#### Sample output:\n",
    "oaiprgrmmng\n",
    "\n",
    "----------------------------------------------------------------------\n",
    "#### Sample input:\n",
    "You love Python!\n",
    "\n",
    "#### Sample output:\n",
    "ouoeoY lv Pythn!\n",
    "\n",
    "----------------------------------------------------------------------\n",
    "##### Explanation:\n",
    "All the vowels have been shifted to the beginning in order. The order of all the other characters remains the same."
   ]
  },
  {
   "cell_type": "code",
   "execution_count": 16,
   "id": "6a232175",
   "metadata": {},
   "outputs": [
    {
     "name": "stdout",
     "output_type": "stream",
     "text": [
      "oaiprgrmmng\n",
      "ouoeoY lv Pythn!\n"
     ]
    }
   ],
   "source": [
    "def shift_vowel(text):\n",
    "    vowels_dict = 'ueoai'\n",
    "    vowels = []\n",
    "    non_vowels = []\n",
    "    for t in text:\n",
    "        if t in vowels_dict:\n",
    "            vowels.append(t)\n",
    "        else:\n",
    "            non_vowels.append(t)\n",
    "    return ''.join(vowels) + ''.join(non_vowels)\n",
    "print(shift_vowel('programming'))\n",
    "print(shift_vowel('You love Python!'))"
   ]
  },
  {
   "cell_type": "markdown",
   "id": "07fff1cf",
   "metadata": {},
   "source": [
    "## Balanced Brackets\n",
    "\n",
    "You will be given a string with a lot of brackets. You have to print if the brackets are balanced or not. Remember, there are three types of brackets: ‘( )’,  ‘{ }’ and ‘[ ]’.\n",
    "\n",
    "----------------------------------------------------------------------\n",
    "#### Input:\n",
    "A string\n",
    "\n",
    "#### Output:\n",
    "Yes, if the brackets are balanced.\n",
    "No otherwise.\n",
    "\n",
    "----------------------------------------------------------------------\n",
    "#### Sample input:\n",
    "){[[]]}())()\n",
    "\n",
    "#### Sample output:\n",
    "No\n",
    "\n",
    "----------------------------------------------------------------------\n",
    "#### Sample input 2:\n",
    "[](){[]()(){}}\n",
    "\n",
    "#### Sample output 2:\n",
    "Yes"
   ]
  },
  {
   "cell_type": "code",
   "execution_count": 24,
   "id": "b4b0c913",
   "metadata": {},
   "outputs": [
    {
     "name": "stdout",
     "output_type": "stream",
     "text": [
      "No\n",
      "Yes\n"
     ]
    }
   ],
   "source": [
    "def balanced_brackets(str):\n",
    "    dict_ = {'(':0, ')':0,'{':0, '}':0,'[':0, ']':0}\n",
    "    for t in str:\n",
    "        dict_[t] += 1\n",
    "    condition = (dict_['('] == dict_[')']) and (dict_['{'] == dict_['}']) and (dict_['['] == dict_[']'])\n",
    "    if condition:\n",
    "        return 'Yes'\n",
    "    else:\n",
    "        return 'No'\n",
    "\n",
    "print(balanced_brackets('){[[]]}())()'))\n",
    "print(balanced_brackets('[](){[]()(){}}'))"
   ]
  }
 ],
 "metadata": {
  "kernelspec": {
   "display_name": "data_engineering",
   "language": "python",
   "name": "python3"
  },
  "language_info": {
   "codemirror_mode": {
    "name": "ipython",
    "version": 3
   },
   "file_extension": ".py",
   "mimetype": "text/x-python",
   "name": "python",
   "nbconvert_exporter": "python",
   "pygments_lexer": "ipython3",
   "version": "3.9.20"
  }
 },
 "nbformat": 4,
 "nbformat_minor": 5
}
