{
 "cells": [
  {
   "cell_type": "markdown",
   "id": "4076e69b",
   "metadata": {},
   "source": [
    "## Smallest Element\n",
    "\n",
    "You have to find and print the smallest element of the list given as input. \n",
    "\n",
    "----------------------------------------------------------------------\n",
    "#### Input:\n",
    "A non-empty list of integers.\n",
    "\n",
    "#### Output:\n",
    "The smallest integer of the input list.\n",
    "\n",
    "----------------------------------------------------------------------\n",
    "#### Sample input:\n",
    "[2, -3, 0, 7, 21]\n",
    "\n",
    "#### Sample output:\n",
    "-3\n"
   ]
  },
  {
   "cell_type": "code",
   "execution_count": null,
   "id": "8dd6b563",
   "metadata": {},
   "outputs": [
    {
     "name": "stdout",
     "output_type": "stream",
     "text": [
      "-3\n"
     ]
    }
   ],
   "source": [
    "def find_min(x_list):\n",
    "    x_list = list(set(x_list))\n",
    "    x_min = x_list[0]\n",
    "    for i, x in enumerate(x_list):\n",
    "        if i == 0:\n",
    "            continue\n",
    "        else:\n",
    "            if x < x_min:\n",
    "                x_min = x\n",
    "    return x_min\n",
    "print(find_min([2, -3, 0, 7, 21]))        "
   ]
  },
  {
   "cell_type": "markdown",
   "id": "dfa8d473",
   "metadata": {},
   "source": [
    "### Opinion\n",
    "#### Finding maximum or minimum element was easy, can you try and think of finding the second maximum or 2nd minimum element from a given list of the integers?\n",
    "\n",
    "#### Try to find all different approaches.\n",
    "\n",
    "#### What if we say you can travel on the list only once. Can you think anything about that?"
   ]
  },
  {
   "cell_type": "markdown",
   "id": "6f6b0336",
   "metadata": {},
   "source": [
    "Answer: "
   ]
  },
  {
   "cell_type": "code",
   "execution_count": null,
   "id": "e0da6d82",
   "metadata": {},
   "outputs": [
    {
     "name": "stdout",
     "output_type": "stream",
     "text": [
      "0\n",
      "7\n"
     ]
    }
   ],
   "source": [
    "def find_max(x_list):\n",
    "    x_list = list(set(x_list))\n",
    "    x_max = x_list[0]\n",
    "    for i, x in enumerate(x_list):\n",
    "        if i == 0:\n",
    "            continue\n",
    "        else:\n",
    "            if x > x_max:\n",
    "                x_max = x\n",
    "    return x_max\n",
    "\n",
    "def find_min_2nd(x_list):\n",
    "    x_list = x_list.copy()\n",
    "    x_min = find_min(x_list)\n",
    "    x_list.remove(x_min)\n",
    "    return find_min(x_list)\n",
    "\n",
    "def find_max_2nd(x_list):\n",
    "    x_list = x_list.copy()\n",
    "    x_max = find_max(x_list)\n",
    "    x_list.remove(x_max)\n",
    "    return find_max(x_list)\n",
    "\n",
    "print(find_min_2nd([2, -3, 0, 7, 21]))      \n",
    "print(find_max_2nd([2, -3, 0, 7, 21]))   "
   ]
  },
  {
   "cell_type": "code",
   "execution_count": 21,
   "id": "c191b469",
   "metadata": {},
   "outputs": [
    {
     "name": "stdout",
     "output_type": "stream",
     "text": [
      "0\n",
      "7\n"
     ]
    }
   ],
   "source": [
    "x_list = [2, -3, 0, 7, 21]\n",
    "min_2nd = sorted(list(set(x_list)))[1]\n",
    "print(min_2nd)\n",
    "max_2nd = sorted(list(set(x_list)), reverse = True)[1]\n",
    "print(max_2nd)"
   ]
  },
  {
   "cell_type": "markdown",
   "id": "107fdb8e",
   "metadata": {},
   "source": [
    "## Above Average\n",
    "\n",
    "Finding the average of the data and comparing it with other values is often encountered while analysing the data. Here you will do the same thing. The data will be provided to you in a list. You will also be given a number check.  You will return whether the number check is above average or no.\n",
    "\n",
    "----------------------------------------------------------------------\n",
    "#### Input:\n",
    "A list with two elements:\n",
    "The first element will be the list of data of integers and\n",
    "The second element will be an integer check.\n",
    "\n",
    "#### Output:\n",
    "True if check is above average and False otherwise\n",
    "\n",
    "----------------------------------------------------------------------\n",
    "#### Sample input:\n",
    "[ [2,4,6,8,10],  4]\n",
    "\n",
    "#### Sample output:\n",
    "False\n",
    "\n",
    "----------------------------------------------------------------------\n",
    "#### Sample input:\n",
    "[ [2,4,6,8,-10],  4]\n",
    "\n",
    "#### Sample output:\n",
    "True\n"
   ]
  },
  {
   "cell_type": "markdown",
   "id": "0e64c91e",
   "metadata": {},
   "source": [
    "### Opinion\n",
    "#### Discuss all the ways you can think of to solve this problem? Let's see how many can you think of."
   ]
  },
  {
   "cell_type": "markdown",
   "id": "da15dc2b",
   "metadata": {},
   "source": [
    "Answer: "
   ]
  },
  {
   "cell_type": "code",
   "execution_count": 25,
   "id": "9acd13c5",
   "metadata": {},
   "outputs": [
    {
     "name": "stdout",
     "output_type": "stream",
     "text": [
      "False\n",
      "True\n"
     ]
    }
   ],
   "source": [
    "def compute_mean(x_list):\n",
    "    return sum(x_list) / len(x_list)\n",
    "\n",
    "def if_above_mean(input):\n",
    "    x_list = input[0]\n",
    "    value = input[1]\n",
    "    mean_value = compute_mean(x_list)\n",
    "    return value > mean_value\n",
    "\n",
    "print(if_above_mean([ [2,4,6,8,10],  4]))\n",
    "print(if_above_mean([ [2,4,6,8,-10], 4]))"
   ]
  },
  {
   "cell_type": "markdown",
   "id": "cc87ae42",
   "metadata": {},
   "source": [
    "## Recruit New Members\n",
    "\n",
    "Suppose you are a manager as a big firm and now are looking for new members for your team. You sent out an advertisement and have received a few applications. You have a habit of scoring people on a scale of 100. You have given scores to all the members of your team and the new applications. The process of selection is going to be very straightforward if the applicant improves the average of the team then you hire the applicant to join the team or else reject the application. Remember the order of processing applications is going to be important here.\n",
    "\n",
    "\n",
    "\n",
    "You may see this as an extension of the previous problem, which it is. You may use the code written in the previous question as a function to improve the code quality.\n",
    "\n",
    "\n",
    "\n",
    "----------------------------------------------------------------------\n",
    "\n",
    "#### Input:\n",
    "\n",
    "Two lists on two separate lines.\n",
    "\n",
    "The first line will have the list of scores of current team members\n",
    "\n",
    "The second line will have the list of scores of the applicants.\n",
    "\n",
    "\n",
    "\n",
    "#### Output:\n",
    "\n",
    "The list consisting of scores of the final team after hiring from the pool of applicants.\n",
    "\n",
    "\n",
    "\n",
    "----------------------------------------------------------------------\n",
    "\n",
    "#### Sample input:\n",
    "\n",
    "[23,45,34,76]\n",
    "\n",
    "[70,34,94]\n",
    "\n",
    "\n",
    "\n",
    "#### Sample output:\n",
    "\n",
    "[23, 45, 34, 76, 70, 94]\n",
    "\n",
    "\n",
    "##### Explanation:\n",
    "\n",
    "The first applicant has score 70, and the team average is 44.5 hence the applicant is hired making the team average 49.6\n",
    "\n",
    "The second applicant has score 34, and the team average is 49.6 hence the applicant is rejected keeping the team average same 49.6\n",
    "\n",
    "The third applicant has score 94, and the team average is 49.6 hence the applicant is hired making the team average 57\n",
    "\n",
    "\n",
    "\n",
    "----------------------------------------------------------------------\n",
    "\n",
    "#### Sample input:\n",
    "\n",
    "[10,20,30,40,50]\n",
    "\n",
    "[30,60,80,40]\n",
    "\n",
    "\n",
    "\n",
    "#### Sample output:\n",
    "\n",
    "[10, 20, 30, 40, 50, 60, 80]"
   ]
  },
  {
   "cell_type": "markdown",
   "id": "f5ab52ed",
   "metadata": {},
   "source": [
    "### Opinion\n",
    "\n",
    "#### How many ways can you think of finding the sum of a list of integers? Elaborate them all!\n",
    "\n"
   ]
  },
  {
   "cell_type": "markdown",
   "id": "24b25b0b",
   "metadata": {},
   "source": [
    "Answer:"
   ]
  },
  {
   "cell_type": "code",
   "execution_count": 26,
   "id": "79136112",
   "metadata": {},
   "outputs": [
    {
     "name": "stdout",
     "output_type": "stream",
     "text": [
      "[23, 45, 34, 76, 70, 94]\n",
      "[10, 20, 30, 40, 50, 60, 80]\n"
     ]
    }
   ],
   "source": [
    "def recruit_new_member(current_member, new_applicant):\n",
    "    current_member = current_member.copy()\n",
    "    for x in new_applicant:\n",
    "        if if_above_mean([current_member, x]):\n",
    "            current_member.append(x)\n",
    "    return current_member\n",
    "print(recruit_new_member([23,45,34,76], [70,34,94]))\n",
    "print(recruit_new_member([10,20,30,40,50], [30,60,80,40]))"
   ]
  },
  {
   "cell_type": "markdown",
   "id": "96a00f55",
   "metadata": {},
   "source": [
    "## Calendar\n",
    "\n",
    "You are planning to go to your friend's wedding and you have long events all month, lasting at least a few days. You have the start and end dates of events and your task is to find out events overlapping with the wedding date.\n",
    "\n",
    "The code for taking input has already been written for you, please don't modify that, but do read and try to understand the way input has been taken. You will be asked to take input on your own for most of the problems here onwards. Taking data in a suitable format is an important skill for a Data Scientist.\n",
    "\n",
    "----------------------------------------------------------------------\n",
    "#### Input:\n",
    "The input will contain a list of lists where each sub-list has only two elements representing the start and end date of an event, the start date will be less than or equal to the end date. The next line of input will have a wedding date. \n",
    "\n",
    "#### Output:\n",
    "The output should have the number of events overlapping with the wedding date.\n",
    "\n",
    "----------------------------------------------------------------------\n",
    "#### Sample input:\n",
    "[ [29,31], [23,26], [24,25] ]\n",
    "24\n",
    "\n",
    "#### Sample output:\n",
    "2\n",
    "\n",
    "##### Explanation:\n",
    "There are three events in the month.\n",
    "Event 1= from date 29 to 31\n",
    "Event 2= from date 23 to 26\n",
    "Event 3= from date 24 to 25\n",
    "Wedding is on 24. This means it will clash with Event 3 and Event 2, that is two events. The output is therefore 2.\n",
    "\n",
    "----------------------------------------------------------------------\n",
    "#### Sample input:\n",
    "[ [1, 4], [7, 10], [8, 8], [14, 23] ]\n",
    "26\n",
    "\n",
    "#### Sample output:\n",
    "0"
   ]
  },
  {
   "cell_type": "code",
   "execution_count": 28,
   "id": "6a232175",
   "metadata": {},
   "outputs": [
    {
     "name": "stdout",
     "output_type": "stream",
     "text": [
      "2\n",
      "0\n"
     ]
    }
   ],
   "source": [
    "def count_overlap_event(events, check_day):\n",
    "    count = 0\n",
    "    for x in events:\n",
    "        day_min = x[0]\n",
    "        day_max = x[1]\n",
    "        if check_day >= day_min and check_day <= day_max:\n",
    "            count +=1\n",
    "    return count\n",
    "\n",
    "print(count_overlap_event([ [29,31], [23,26], [24,25] ], 24)  )\n",
    "print(count_overlap_event([ [1, 4], [7, 10], [8, 8], [14, 23] ], 26)  )"
   ]
  },
  {
   "cell_type": "markdown",
   "id": "07fff1cf",
   "metadata": {},
   "source": [
    "## Fenced Matrix\n",
    "\n",
    "You will be given two positive integers m and n. You have to make a list of lists (which can be visualised as a matrix) of size m*n, that is m sublists (rows), with each sublists having n integers (columns). The matrix should be such that it should have 1 on the border and 0 everywhere else. See sample input and output for more clarification.\n",
    "\n",
    "\n",
    "\n",
    "----------------------------------------------------------------------\n",
    "\n",
    "#### Input:\n",
    "\n",
    "Two integers separated by a comma\n",
    "\n",
    "\n",
    "\n",
    "#### Output:\n",
    "\n",
    "A list of lists of size m*n printed like matrix as shown in the sample output.\n",
    "\n",
    "\n",
    "\n",
    "----------------------------------------------------------------------\n",
    "\n",
    "#### Sample input:\n",
    "\n",
    "4,5\n",
    "\n",
    "\n",
    "\n",
    "#### Sample output:\n",
    "```\n",
    "[1, 1, 1, 1, 1]\n",
    "[1, 0, 0, 0, 1]\n",
    "[1, 0, 0, 0, 1]\n",
    "[1, 1, 1, 1, 1]\n",
    "```\n",
    "\n",
    "----------------------------------------------------------------------\n",
    "\n",
    "#### Sample input:\n",
    "\n",
    "3,3\n",
    "\n",
    "\n",
    "\n",
    "#### Sample output:\n",
    "```\n",
    "[1, 1, 1]\n",
    "[1, 0, 1]\n",
    "[1, 1, 1]\n",
    "```\n",
    "\n",
    "----------------------------------------------------------------------\n",
    "\n",
    "#### Sample input:\n",
    "\n",
    "3,2\n",
    "\n",
    "\n",
    "\n",
    "#### Sample output:\n",
    "```\n",
    "[1, 1]\n",
    "[1, 1]\n",
    "[1, 1]\n",
    "```"
   ]
  },
  {
   "cell_type": "code",
   "execution_count": 34,
   "id": "b4b0c913",
   "metadata": {},
   "outputs": [
    {
     "name": "stdout",
     "output_type": "stream",
     "text": [
      "[1, 1, 1, 1, 1]\n",
      "[1, 0, 0, 0, 1]\n",
      "[1, 0, 0, 0, 1]\n",
      "[1, 1, 1, 1, 1]\n",
      "[1, 1, 1]\n",
      "[1, 0, 1]\n",
      "[1, 1, 1]\n",
      "[1, 1]\n",
      "[1, 1]\n",
      "[1, 1]\n"
     ]
    }
   ],
   "source": [
    "def fence_matrix(m,n):\n",
    "    if n <= 2:\n",
    "        for i in range(m):\n",
    "            print([1 for j in range(n)])\n",
    "    else:\n",
    "        for i in range(m):\n",
    "            if i == 0 or i == m-1:\n",
    "                print([1 for j in range(n)])\n",
    "            else:\n",
    "                list_ = [0 for j in range(n)]\n",
    "                list_[0] = 1\n",
    "                list_[-1] = 1\n",
    "                print(list_)\n",
    "fence_matrix(4,5)\n",
    "fence_matrix(3,3)\n",
    "fence_matrix(3,2)"
   ]
  }
 ],
 "metadata": {
  "kernelspec": {
   "display_name": "data_engineering",
   "language": "python",
   "name": "python3"
  },
  "language_info": {
   "codemirror_mode": {
    "name": "ipython",
    "version": 3
   },
   "file_extension": ".py",
   "mimetype": "text/x-python",
   "name": "python",
   "nbconvert_exporter": "python",
   "pygments_lexer": "ipython3",
   "version": "3.9.20"
  }
 },
 "nbformat": 4,
 "nbformat_minor": 5
}
