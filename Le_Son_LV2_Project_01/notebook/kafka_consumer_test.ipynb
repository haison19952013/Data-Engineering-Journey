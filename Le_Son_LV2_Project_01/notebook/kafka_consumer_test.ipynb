{
 "cells": [
  {
   "cell_type": "code",
   "execution_count": 4,
   "id": "a5d04eb8",
   "metadata": {},
   "outputs": [
    {
     "name": "stdout",
     "output_type": "stream",
     "text": [
      "The autoreload extension is already loaded. To reload it, use:\n",
      "  %reload_ext autoreload\n"
     ]
    }
   ],
   "source": [
    "%load_ext autoreload\n",
    "%autoreload 2\n",
    "import sys\n",
    "sys.path.append('../../Le_Son_LV2_Project_01')\n",
    "from confluent_kafka import Consumer\n",
    "from config import load_config\n",
    "import json"
   ]
  },
  {
   "cell_type": "code",
   "execution_count": 5,
   "id": "3ff3d4f8",
   "metadata": {},
   "outputs": [
    {
     "data": {
      "text/plain": [
       "{'servers': '46.202.167.130:9094,46.202.167.130:9194,46.202.167.130:9294',\n",
       " 'username': 'kafka',\n",
       " 'password': 'UnigapKafka@2024',\n",
       " 'default_consumer_group_id': 'sonhaile-connection',\n",
       " 'default_consumer_topic': 'product_view'}"
      ]
     },
     "execution_count": 5,
     "metadata": {},
     "output_type": "execute_result"
    }
   ],
   "source": [
    "kafka_config = load_config(filename=\"../database.ini\", section=\"remote_kafka\")\n",
    "kafka_config"
   ]
  },
  {
   "cell_type": "code",
   "execution_count": 6,
   "id": "719498dc",
   "metadata": {},
   "outputs": [
    {
     "name": "stdout",
     "output_type": "stream",
     "text": [
      "Waiting...\n",
      "Waiting...\n",
      "Waiting...\n",
      "Waiting...\n",
      "Waiting...\n",
      "Waiting...\n",
      "Waiting...\n",
      "Waiting...\n",
      "Waiting...\n",
      "Consumed event from topic product_view: key =  value = {\"_id\": \"5ec8015d71a3b936be7dc56d\", \"time_stamp\": 1753369484, \"ip\": \"189.208.93.237\", \"user_agent\": \"Mozilla/5.0 (Windows NT 10.0; Win64; x64) AppleWebKit/537.36 (KHTML, like Gecko) Chrome/81.0.4044.138 Safari/537.36\", \"resolution\": \"1366x768\", \"user_id_db\": \"\", \"device_id\": \"02928c22-a423-4164-a7b4-f597f5a3580b\", \"api_version\": \"1.0\", \"store_id\": \"62\", \"local_time\": \"2025-07-24 22:04:44\", \"show_recommendation\": \"true\", \"current_url\": \"https://www.glamira.com.mx/glamira-anillo-bridal-heaven.html?alloy=yellow-375&diamond=diamond-sapphire\", \"referrer_url\": \"https://www.glamira.com.mx/glamira-anillo-bridal-heaven-0.5crt.html?diamond=diamond-sapphire&itm_source=recommendation&itm_medium=sorting&alloy=yellow-375\", \"email_address\": \"\", \"recommendation\": false, \"utm_source\": false, \"utm_medium\": false, \"collection\": \"view_product_detail\", \"product_id\": \"86704\", \"option\": [{\"option_label\": \"alloy\", \"option_id\": \"323045\", \"value_label\": \"\", \"value_id\": \"2740674\"}, {\"option_label\": \"diamond\", \"option_id\": \"323044\", \"value_label\": \"\", \"value_id\": \"2740642\"}], \"id\": \"f523185f-406c-4bc8-9a0a-ea02de1b0e67\"}\n",
      "<class 'str'>\n",
      "{'_id': '5ec8015d71a3b936be7dc56d', 'time_stamp': 1753369484, 'ip': '189.208.93.237', 'user_agent': 'Mozilla/5.0 (Windows NT 10.0; Win64; x64) AppleWebKit/537.36 (KHTML, like Gecko) Chrome/81.0.4044.138 Safari/537.36', 'resolution': '1366x768', 'user_id_db': '', 'device_id': '02928c22-a423-4164-a7b4-f597f5a3580b', 'api_version': '1.0', 'store_id': '62', 'local_time': '2025-07-24 22:04:44', 'show_recommendation': 'true', 'current_url': 'https://www.glamira.com.mx/glamira-anillo-bridal-heaven.html?alloy=yellow-375&diamond=diamond-sapphire', 'referrer_url': 'https://www.glamira.com.mx/glamira-anillo-bridal-heaven-0.5crt.html?diamond=diamond-sapphire&itm_source=recommendation&itm_medium=sorting&alloy=yellow-375', 'email_address': '', 'recommendation': False, 'utm_source': False, 'utm_medium': False, 'collection': 'view_product_detail', 'product_id': '86704', 'option': [{'option_label': 'alloy', 'option_id': '323045', 'value_label': '', 'value_id': '2740674'}, {'option_label': 'diamond', 'option_id': '323044', 'value_label': '', 'value_id': '2740642'}], 'id': 'f523185f-406c-4bc8-9a0a-ea02de1b0e67'}\n",
      "<class 'dict'>\n"
     ]
    }
   ],
   "source": [
    "#!/usr/bin/env python\n",
    "if __name__ == '__main__':\n",
    "\n",
    "    config = {\n",
    "            'bootstrap.servers': kafka_config['servers'],\n",
    "            'security.protocol': 'SASL_PLAINTEXT',       # or 'SASL_SSL' if using SSL\n",
    "            'sasl.mechanism': 'PLAIN',\n",
    "            'sasl.username': kafka_config['username'],\n",
    "            'sasl.password': kafka_config['password'],\n",
    "            'group.id': 'sonhaile-connection',\n",
    "            'auto.offset.reset': 'earliest'\n",
    "            }\n",
    "\n",
    "\n",
    "    # Create Consumer instance\n",
    "    consumer = Consumer(config)\n",
    "\n",
    "    # Subscribe to topic\n",
    "    topic = \"product_view\"\n",
    "    consumer.subscribe([topic])\n",
    "\n",
    "    # Poll for new messages from Kafka and print them.\n",
    "    try:\n",
    "        while True:\n",
    "            msg = consumer.poll(1.0)\n",
    "            if msg is None:\n",
    "                # Initial message consumption may take up to\n",
    "                # `session.timeout.ms` for the consumer group to\n",
    "                # rebalance and start consuming\n",
    "                print(\"Waiting...\")\n",
    "            elif msg.error():\n",
    "                print(f\"ERROR: {msg.error()}\")\n",
    "            else:\n",
    "                key = msg.key().decode('utf-8') if msg.key() else None\n",
    "                value = msg.value().decode('utf-8') if msg.value() else None\n",
    "                # Extract the (optional) key and value, and print.\n",
    "                print(f\"Consumed event from topic {msg.topic()}: key = {key or ''} value = {value or ''}\")\n",
    "                print(type(value))\n",
    "                value = json.loads(value)\n",
    "                print(value)\n",
    "                print(type(value))\n",
    "                break\n",
    "\n",
    "    except KeyboardInterrupt:\n",
    "        pass\n",
    "    finally:\n",
    "        # Leave group and commit final offsets\n",
    "        consumer.close()"
   ]
  }
 ],
 "metadata": {
  "kernelspec": {
   "display_name": "data_engineering",
   "language": "python",
   "name": "python3"
  },
  "language_info": {
   "codemirror_mode": {
    "name": "ipython",
    "version": 3
   },
   "file_extension": ".py",
   "mimetype": "text/x-python",
   "name": "python",
   "nbconvert_exporter": "python",
   "pygments_lexer": "ipython3",
   "version": "3.9.20"
  }
 },
 "nbformat": 4,
 "nbformat_minor": 5
}
