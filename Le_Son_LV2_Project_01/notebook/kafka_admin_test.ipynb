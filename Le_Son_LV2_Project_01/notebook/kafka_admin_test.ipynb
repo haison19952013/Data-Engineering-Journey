{
 "cells": [
  {
   "cell_type": "code",
   "execution_count": 5,
   "id": "a5d04eb8",
   "metadata": {},
   "outputs": [
    {
     "name": "stdout",
     "output_type": "stream",
     "text": [
      "The autoreload extension is already loaded. To reload it, use:\n",
      "  %reload_ext autoreload\n"
     ]
    }
   ],
   "source": [
    "%load_ext autoreload\n",
    "%autoreload 2\n",
    "import sys\n",
    "sys.path.append('../../Le_Son_LV2_Project_01')\n",
    "from confluent_kafka.admin import AdminClient, NewTopic, ConfigResource\n",
    "from config import load_config\n",
    "import time"
   ]
  },
  {
   "cell_type": "code",
   "execution_count": 6,
   "id": "3ff3d4f8",
   "metadata": {},
   "outputs": [
    {
     "data": {
      "text/plain": [
       "{'servers': 'localhost:9094,localhost:9194,localhost:9294',\n",
       " 'username': 'kafka',\n",
       " 'password': 'UnigapKafka@2024',\n",
       " 'default_consumer_group_id': 'sonhaile-connection',\n",
       " 'default_consumer_topic': 'product_view',\n",
       " 'default_producer_topic': 'product_view',\n",
       " 'default_producer_acks': 'all',\n",
       " 'default_producer_min_isr': '2'}"
      ]
     },
     "execution_count": 6,
     "metadata": {},
     "output_type": "execute_result"
    }
   ],
   "source": [
    "kafka_config = load_config(filename=\"../database.ini\", section=\"local_kafka\")\n",
    "kafka_config"
   ]
  },
  {
   "cell_type": "code",
   "execution_count": 7,
   "id": "d70db43f",
   "metadata": {},
   "outputs": [
    {
     "name": "stdout",
     "output_type": "stream",
     "text": [
      "✅ Topic 'local_test_topic' created successfully\n",
      "🔍 Topic 'local_test_topic' configs:\n",
      "   compression.type: producer\n",
      "   leader.replication.throttled.replicas: \n",
      "   remote.storage.enable: false\n",
      "   message.downconversion.enable: true\n",
      "   min.insync.replicas: 2\n",
      "   segment.jitter.ms: 0\n",
      "   local.retention.ms: -2\n",
      "   cleanup.policy: delete\n",
      "   flush.ms: 9223372036854775807\n",
      "   follower.replication.throttled.replicas: \n",
      "   segment.bytes: 1073741824\n",
      "   retention.ms: 604800000\n",
      "   flush.messages: 9223372036854775807\n",
      "   message.format.version: 3.0-IV1\n",
      "   max.compaction.lag.ms: 9223372036854775807\n",
      "   file.delete.delay.ms: 60000\n",
      "   max.message.bytes: 1048588\n",
      "   min.compaction.lag.ms: 0\n",
      "   message.timestamp.type: CreateTime\n",
      "   local.retention.bytes: -2\n",
      "   preallocate: false\n",
      "   min.cleanable.dirty.ratio: 0.5\n",
      "   index.interval.bytes: 4096\n",
      "   unclean.leader.election.enable: false\n",
      "   retention.bytes: -1\n",
      "   delete.retention.ms: 86400000\n",
      "   message.timestamp.after.max.ms: 9223372036854775807\n",
      "   message.timestamp.before.max.ms: 9223372036854775807\n",
      "   segment.ms: 604800000\n",
      "   message.timestamp.difference.max.ms: 9223372036854775807\n",
      "   segment.index.bytes: 10485760\n"
     ]
    }
   ],
   "source": [
    "# Local Kafka broker config\n",
    "admin_conf = config = {\n",
    "            'bootstrap.servers': kafka_config['servers'],\n",
    "            'security.protocol': 'SASL_PLAINTEXT',       # or 'SASL_SSL' if using SSL\n",
    "            'sasl.mechanism': 'PLAIN',\n",
    "            'sasl.username': kafka_config['username'],\n",
    "            'sasl.password': kafka_config['password']\n",
    "            }\n",
    "admin_client = AdminClient(admin_conf)\n",
    "\n",
    "# --- Create topic ---\n",
    "topic_name = 'local_test_topic'\n",
    "\n",
    "new_topic = NewTopic(\n",
    "    topic=topic_name,\n",
    "    num_partitions=3,\n",
    "    replication_factor=3,\n",
    "    config={\n",
    "        'retention.ms': '604800000',           # 7 days\n",
    "        'min.insync.replicas': '2'\n",
    "    }\n",
    ")\n",
    "\n",
    "fs = admin_client.create_topics([new_topic])\n",
    "\n",
    "# --- Wait for result ---\n",
    "for topic, f in fs.items():\n",
    "    try:\n",
    "        f.result()\n",
    "        print(f\"✅ Topic '{topic}' created successfully\")\n",
    "    except Exception as e:\n",
    "        print(f\"❗ Failed to create topic '{topic}': {e}\")\n",
    "\n",
    "# --- Optional: Verify topic config ---\n",
    "time.sleep(1)  # wait a bit before describing\n",
    "\n",
    "resource = ConfigResource(ConfigResource.Type.TOPIC, topic_name)\n",
    "futures = admin_client.describe_configs([resource])\n",
    "\n",
    "for res, f in futures.items():\n",
    "    try:\n",
    "        configs = f.result()\n",
    "        print(f\"🔍 Topic '{res.name}' configs:\")\n",
    "        for k, v in configs.items():\n",
    "            print(f\"   {k}: {v.value}\")\n",
    "    except Exception as e:\n",
    "        print(f\"❗ Error describing config for topic {res.name}: {e}\")\n"
   ]
  }
 ],
 "metadata": {
  "kernelspec": {
   "display_name": "data_engineering",
   "language": "python",
   "name": "python3"
  },
  "language_info": {
   "codemirror_mode": {
    "name": "ipython",
    "version": 3
   },
   "file_extension": ".py",
   "mimetype": "text/x-python",
   "name": "python",
   "nbconvert_exporter": "python",
   "pygments_lexer": "ipython3",
   "version": "3.9.20"
  }
 },
 "nbformat": 4,
 "nbformat_minor": 5
}
