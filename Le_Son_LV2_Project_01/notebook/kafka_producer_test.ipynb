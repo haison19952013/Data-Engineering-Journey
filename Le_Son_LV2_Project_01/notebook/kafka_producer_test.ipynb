{
 "cells": [
  {
   "cell_type": "code",
   "execution_count": null,
   "id": "a5d04eb8",
   "metadata": {},
   "outputs": [],
   "source": [
    "%load_ext autoreload\n",
    "%autoreload 2\n",
    "import sys\n",
    "sys.path.append('../../Le_Son_LV2_Project_01')\n",
    "from confluent_kafka import Producer\n",
    "from config import load_config\n",
    "from random import choice"
   ]
  },
  {
   "cell_type": "code",
   "execution_count": 2,
   "id": "3ff3d4f8",
   "metadata": {},
   "outputs": [
    {
     "data": {
      "text/plain": [
       "{'servers': 'localhost:9094,localhost:9194,localhost:9294',\n",
       " 'username': 'kafka',\n",
       " 'password': 'UnigapKafka@2024',\n",
       " 'default_consumer_group_id': 'sonhaile-connection',\n",
       " 'default_consumer_topic': 'product_view',\n",
       " 'default_producer_topic': 'product_view',\n",
       " 'default_producer_acks': 'all',\n",
       " 'default_producer_min_isr': '2'}"
      ]
     },
     "execution_count": 2,
     "metadata": {},
     "output_type": "execute_result"
    }
   ],
   "source": [
    "kafka_config = load_config(filename=\"database.ini\", section=\"local_kafka\")\n",
    "kafka_config"
   ]
  },
  {
   "cell_type": "code",
   "execution_count": null,
   "id": "d70db43f",
   "metadata": {},
   "outputs": [
    {
     "name": "stdout",
     "output_type": "stream",
     "text": [
      "Produced event to topic test_topic_sonhaile: key = jsmith       value = batteries   \n",
      "Produced event to topic test_topic_sonhaile: key = jsmith       value = gift card   \n",
      "Produced event to topic test_topic_sonhaile: key = jsmith       value = gift card   \n",
      "Produced event to topic test_topic_sonhaile: key = sgarcia      value = batteries   \n",
      "Produced event to topic test_topic_sonhaile: key = awalther     value = batteries   \n",
      "Produced event to topic test_topic_sonhaile: key = eabara       value = t-shirts    \n",
      "Produced event to topic test_topic_sonhaile: key = eabara       value = gift card   \n",
      "Produced event to topic test_topic_sonhaile: key = jbernard     value = book        \n",
      "Produced event to topic test_topic_sonhaile: key = eabara       value = book        \n",
      "Produced event to topic test_topic_sonhaile: key = jbernard     value = batteries   \n"
     ]
    }
   ],
   "source": [
    "if __name__ == '__main__':\n",
    "\n",
    "    config = {\n",
    "            'bootstrap.servers': kafka_config['servers'],\n",
    "            'security.protocol': 'SASL_PLAINTEXT',       # or 'SASL_SSL' if using SSL\n",
    "            'sasl.mechanism': 'PLAIN',\n",
    "            'sasl.username': kafka_config['username'],\n",
    "            'sasl.password': kafka_config['password'],\n",
    "            'acks': 'all'\n",
    "            }\n",
    "\n",
    "    # Create Producer instance\n",
    "    producer = Producer(config)\n",
    "\n",
    "    # Optional per-message delivery callback (triggered by poll() or flush())\n",
    "    # when a message has been successfully delivered or permanently\n",
    "    # failed delivery (after retries).\n",
    "    def delivery_callback(err, msg):\n",
    "        if err:\n",
    "            print('ERROR: Message failed delivery: {}'.format(err))\n",
    "        else:\n",
    "            print(\"Produced event to topic {topic}: key = {key:12} value = {value:12}\".format(\n",
    "                topic=msg.topic(), key=msg.key().decode('utf-8'), value=msg.value().decode('utf-8')))\n",
    "\n",
    "    # Produce data by selecting random values from these lists.\n",
    "    topic = \"test_topic_sonhaile\"\n",
    "    user_ids = ['eabara', 'jsmith', 'sgarcia', 'jbernard', 'htanaka', 'awalther']\n",
    "    products = ['book', 'alarm clock', 't-shirts', 'gift card', 'batteries']\n",
    "\n",
    "    count = 0\n",
    "    for _ in range(10):\n",
    "        user_id = choice(user_ids)\n",
    "        product = choice(products)\n",
    "        producer.produce(topic = topic, value = product, key = user_id, callback=delivery_callback)\n",
    "        count += 1\n",
    "\n",
    "    # Block until the messages are sent.\n",
    "    producer.poll(10000)\n",
    "    producer.flush()"
   ]
  }
 ],
 "metadata": {
  "kernelspec": {
   "display_name": "data_engineering",
   "language": "python",
   "name": "python3"
  },
  "language_info": {
   "codemirror_mode": {
    "name": "ipython",
    "version": 3
   },
   "file_extension": ".py",
   "mimetype": "text/x-python",
   "name": "python",
   "nbconvert_exporter": "python",
   "pygments_lexer": "ipython3",
   "version": "3.9.20"
  }
 },
 "nbformat": 4,
 "nbformat_minor": 5
}
