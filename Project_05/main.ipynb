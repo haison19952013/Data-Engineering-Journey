{
 "cells": [
  {
   "cell_type": "code",
   "execution_count": 1,
   "id": "511ce08d",
   "metadata": {},
   "outputs": [],
   "source": [
    "from config import load_config\n",
    "import IP2Location\n",
    "import os\n",
    "from pymongo import MongoClient\n",
    "from pymongo.errors import ConnectionFailure\n",
    "import pandas as pd\n",
    "from pipeline import ETL"
   ]
  },
  {
   "cell_type": "code",
   "execution_count": 2,
   "id": "0e74e2e8",
   "metadata": {},
   "outputs": [
    {
     "name": "stdout",
     "output_type": "stream",
     "text": [
      "2025-05-10 17:54 - INFO - Processing: data/ips_batch_1.csv\n",
      "              ip country_short country_long                  region  \\\n",
      "0        1.1.1.1            HK    Hong Kong         Hong Kong (SAR)   \n",
      "1    1.1.154.229            TH     Thailand            Sakon Nakhon   \n",
      "2    1.1.160.213            TH     Thailand                 Lamphun   \n",
      "3    1.10.130.73            TH     Thailand  Krung Thep Maha Nakhon   \n",
      "4  1.120.100.158            AU    Australia              Queensland   \n",
      "\n",
      "          city  \n",
      "0    Hong Kong  \n",
      "1     Phu Phan  \n",
      "2      Lamphun  \n",
      "3  Lat Krabang  \n",
      "4       Cairns  \n",
      "2025-05-10 17:54 - INFO - Saved transformed data to data/location_batch_1.csv\n",
      "2025-05-10 17:54 - INFO - Success in transform_batch()\n",
      "2025-05-10 17:54 - INFO - Processing: data/ips_batch_2.csv\n",
      "               ip country_short country_long         region    city\n",
      "0  176.161.229.33            FR       France  Ile-de-France  Meudon\n",
      "1  176.161.229.38            FR       France  Ile-de-France  Meudon\n",
      "2  176.161.229.39            FR       France  Ile-de-France  Meudon\n",
      "3   176.161.229.4            FR       France  Ile-de-France  Meudon\n",
      "4  176.161.229.47            FR       France  Ile-de-France  Meudon\n",
      "2025-05-10 17:54 - INFO - Saved transformed data to data/location_batch_2.csv\n",
      "2025-05-10 17:54 - INFO - Success in transform_batch()\n",
      "2025-05-10 17:54 - INFO - Processing: data/ips_batch_3.csv\n",
      "                ip country_short country_long  region    city\n",
      "0   194.230.148.23            CH  Switzerland  Zurich  Zurich\n",
      "1  194.230.148.230            CH  Switzerland  Zurich  Zurich\n",
      "2  194.230.148.231            CH  Switzerland  Zurich  Zurich\n",
      "3  194.230.148.232            CH  Switzerland  Zurich  Zurich\n",
      "4  194.230.148.233            CH  Switzerland  Zurich  Zurich\n",
      "2025-05-10 17:54 - INFO - Saved transformed data to data/location_batch_3.csv\n",
      "2025-05-10 17:54 - INFO - Success in transform_batch()\n",
      "2025-05-10 17:54 - INFO - Processing: data/ips_batch_4.csv\n",
      "               ip country_short country_long   region     city\n",
      "0  46.114.104.191            DE      Germany  Hamburg  Hamburg\n",
      "1  46.114.104.192            DE      Germany  Hamburg  Hamburg\n",
      "2  46.114.104.193            DE      Germany  Hamburg  Hamburg\n",
      "3  46.114.104.194            DE      Germany  Hamburg  Hamburg\n",
      "4  46.114.104.195            DE      Germany  Hamburg  Hamburg\n",
      "2025-05-10 17:55 - INFO - Saved transformed data to data/location_batch_4.csv\n",
      "2025-05-10 17:55 - INFO - Success in transform_batch()\n",
      "2025-05-10 17:55 - INFO - Processing: data/ips_batch_5.csv\n",
      "              ip country_short country_long     region        city\n",
      "0   79.116.88.83            RO      Romania       Cluj      Ciucea\n",
      "1  79.116.89.103            RO      Romania  Constanta  Eforie Sud\n",
      "2  79.116.89.154            RO      Romania  Constanta  Eforie Sud\n",
      "3  79.116.89.168            RO      Romania  Constanta  Eforie Sud\n",
      "4  79.116.89.231            RO      Romania  Constanta  Eforie Sud\n",
      "2025-05-10 17:55 - INFO - Saved transformed data to data/location_batch_5.csv\n",
      "2025-05-10 17:55 - INFO - Success in transform_batch()\n",
      "2025-05-10 17:55 - INFO - Processing: data/ips_batch_6.csv\n",
      "              ip country_short country_long     region       city\n",
      "0  86.125.60.213            RO      Romania  Satu Mare  Satu Mare\n",
      "1  86.125.60.214            RO      Romania  Satu Mare  Satu Mare\n",
      "2  86.125.60.215            RO      Romania  Satu Mare  Satu Mare\n",
      "3  86.125.60.217            RO      Romania  Satu Mare  Satu Mare\n",
      "4   86.125.60.22            RO      Romania  Satu Mare  Satu Mare\n",
      "2025-05-10 17:55 - INFO - Saved transformed data to data/location_batch_6.csv\n",
      "2025-05-10 17:55 - INFO - Success in transform_batch()\n",
      "2025-05-10 17:55 - INFO - Processing: data/ips_batch_7.csv\n",
      "               ip country_short country_long region  city\n",
      "0  93.184.118.165            NO       Norway   Oslo  Oslo\n",
      "1  93.184.119.186            NO       Norway   Oslo  Oslo\n",
      "2   93.184.119.43            NO       Norway   Oslo  Oslo\n",
      "3  93.184.122.242            NO       Norway  Troms  Moen\n",
      "4   93.184.123.25            NO       Norway  Troms  Moen\n",
      "2025-05-10 17:55 - INFO - Saved transformed data to data/location_batch_7.csv\n",
      "2025-05-10 17:55 - INFO - Success in transform_batch()\n",
      "2025-05-10 17:55 - INFO - Success in transform(skip_exist=False)\n"
     ]
    }
   ],
   "source": [
    "etl = ETL()\n",
    "# etl.conn_db()\n",
    "# etl.extract()\n",
    "etl.transform(skip_exist=False)"
   ]
  }
 ],
 "metadata": {
  "kernelspec": {
   "display_name": "data_engineering",
   "language": "python",
   "name": "python3"
  },
  "language_info": {
   "codemirror_mode": {
    "name": "ipython",
    "version": 3
   },
   "file_extension": ".py",
   "mimetype": "text/x-python",
   "name": "python",
   "nbconvert_exporter": "python",
   "pygments_lexer": "ipython3",
   "version": "3.9.20"
  }
 },
 "nbformat": 4,
 "nbformat_minor": 5
}
