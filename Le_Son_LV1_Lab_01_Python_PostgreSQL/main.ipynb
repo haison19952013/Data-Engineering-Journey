{
 "cells": [
  {
   "cell_type": "code",
   "execution_count": 92,
   "metadata": {},
   "outputs": [
    {
     "name": "stdout",
     "output_type": "stream",
     "text": [
      "The autoreload extension is already loaded. To reload it, use:\n",
      "  %reload_ext autoreload\n"
     ]
    }
   ],
   "source": [
    "%load_ext autoreload\n",
    "%autoreload 2\n",
    "%reload_ext autoreload\n",
    "import os \n",
    "from db_process import DB_Process\n",
    "import json\n",
    "from tqdm import tqdm"
   ]
  },
  {
   "cell_type": "code",
   "execution_count": 77,
   "metadata": {},
   "outputs": [],
   "source": [
    "my_db = DB_Process()"
   ]
  },
  {
   "cell_type": "code",
   "execution_count": 86,
   "metadata": {},
   "outputs": [],
   "source": [
    "table_dict = (\n",
    "    {\n",
    "        'table_name': 'product_info', \n",
    "        'column_name': ('id', 'name','url_key', 'price', 'description', 'images'),\n",
    "        'column_type': ('INT8 PRIMARY KEY', 'VARCHAR', 'VARCHAR', 'INT8', 'VARCHAR', 'VARCHAR')\n",
    "     }\n",
    ",)\n",
    "my_db.create_tables(table_dict)"
   ]
  },
  {
   "cell_type": "code",
   "execution_count": 94,
   "metadata": {},
   "outputs": [
    {
     "name": "stderr",
     "output_type": "stream",
     "text": [
      "100%|██████████| 200/200 [1:17:05<00:00, 23.13s/it]\n"
     ]
    }
   ],
   "source": [
    "data_files = os.listdir('../Le_Son_LV1_project_02_Tiki_Product_Crawling_Python/data')\n",
    "data_files = [file for file in data_files if file.endswith('.json')]\n",
    "data_paths = [os.path.join('../Le_Son_LV1_project_02_Tiki_Product_Crawling_Python/data', file) for file in data_files]\n",
    "for idx in tqdm(range(len(data_paths))):\n",
    "   path = data_paths[idx]\n",
    "   with open(path) as f:\n",
    "      json_list = json.load(f)\n",
    "    \t# Insert data into the PostgreSQL database\n",
    "      for row in json_list:\n",
    "         table_values = {'table_name': 'product_info',\n",
    "\t\t\t\t\t\t\t'column_name': ('id', 'name', 'url_key', 'price', 'description', 'images'),\n",
    "\t\t\t\t\t\t\t'column_value': (int(row['id']), str(row['name']), str(row['url_key']), int(row['price']), str(row['description']), str(row['images']))\n",
    "\t\t\t\t\t\t\t}\n",
    "         my_db.insert_table(table_values)"
   ]
  }
 ],
 "metadata": {
  "kernelspec": {
   "display_name": "data_engineering",
   "language": "python",
   "name": "python3"
  },
  "language_info": {
   "codemirror_mode": {
    "name": "ipython",
    "version": 3
   },
   "file_extension": ".py",
   "mimetype": "text/x-python",
   "name": "python",
   "nbconvert_exporter": "python",
   "pygments_lexer": "ipython3",
   "version": "3.9.20"
  }
 },
 "nbformat": 4,
 "nbformat_minor": 2
}
